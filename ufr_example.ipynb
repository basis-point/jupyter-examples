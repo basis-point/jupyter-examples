{
 "cells": [
  {
   "cell_type": "code",
   "execution_count": null,
   "metadata": {},
   "outputs": [],
   "source": [
    "import QuantLib as ql"
   ]
  },
  {
   "cell_type": "code",
   "execution_count": null,
   "metadata": {},
   "outputs": [],
   "source": [
    "import csv\n",
    "import os\n",
    "from typing import List\n",
    "\n",
    "\n",
    "def get_project_root():\n",
    "    '''\n",
    "    Returns the project root.\n",
    "    '''\n",
    "    return os.getcwd()\n",
    "\n",
    "\n",
    "def read_swap_quotes(date) -> List[ql.RelinkableQuoteHandle]:\n",
    "    root_dir = get_project_root()\n",
    "    date_as_int = date.year() * 10000 + date.month() * 100 + date.dayOfMonth()\n",
    "    file_name = 'swap_rates_' + str(date_as_int) + '.csv'\n",
    "    file_path = os.path.join(root_dir, 'data/', file_name)\n",
    "    with open(file_path, 'rt') as file:\n",
    "        reader = csv.reader(file, delimiter=',')\n",
    "        rates = [(ql.PeriodParser.parse(str(r[0])), float(r[1])) for r in reader]\n",
    "        quotes = [(q[0], ql.RelinkableQuoteHandle(ql.SimpleQuote(q[1]))) for q in rates]\n",
    "    return quotes"
   ]
  },
  {
   "cell_type": "code",
   "execution_count": null,
   "metadata": {},
   "outputs": [],
   "source": [
    "def calculate_last_liquid_forward(crv: ql.YieldTermStructureHandle, fsp: ql.Period):\n",
    "    dc = crv.dayCounter()\n",
    "    omega = 8.0 / 15.0\n",
    "    fsp_date = crv.referenceDate() + fsp\n",
    "    cut_off = crv.timeFromReference(fsp_date)\n",
    "    llfr_weights = ((ql.Period(25, ql.Years), 1.0), \n",
    "                    (ql.Period(30, ql.Years), 0.5), \n",
    "                    (ql.Period(40, ql.Years), 0.25), \n",
    "                    (ql.Period(50, ql.Years), 0.125))\n",
    "    llfr = 0.0\n",
    "    for tenor, weight in llfr_weights:\n",
    "        time_to_maturity = crv.timeFromReference(fsp_date + tenor)\n",
    "        llfr += weight * crv.forwardRate(\n",
    "            cut_off, time_to_maturity, ql.Continuous, ql.NoFrequency, True).rate()\n",
    "    return llfr\n"
   ]
  },
  {
   "cell_type": "code",
   "execution_count": null,
   "metadata": {},
   "outputs": [],
   "source": [
    "def bump_quote(quote_handle: ql.RelinkableQuoteHandle, bump = 0.0001):\n",
    "    quote_handle.linkTo(ql.SimpleQuote(quote_handle.value() + bump))"
   ]
  },
  {
   "cell_type": "code",
   "execution_count": null,
   "metadata": {},
   "outputs": [],
   "source": [
    "# SWAP INDEX CONVENTIONS\n",
    "\n",
    "SETTLEMENT_DAYS = 2\n",
    "BUSINESS_CONVENTION = ql.Unadjusted\n",
    "DAY_COUNT = ql.SimpleDayCounter()\n",
    "CALENDAR = ql.NullCalendar()\n",
    "CCY = ql.EURCurrency()\n",
    "FXD_FREQUENCY = ql.Annual\n",
    "FLT_TENOR = ql.Period(6, ql.Months)\n",
    "\n",
    "\n",
    "# FTK CURVE CONSTRUCTION\n",
    "\n",
    "def build_ftk_curve(valuation_date: ql.Date, quote_handles: List[ql.QuoteHandle]):\n",
    "    idx = ql.IborIndex(\"FTK_IDX\", FLT_TENOR, SETTLEMENT_DAYS, CCY, CALENDAR, BUSINESS_CONVENTION, False, DAY_COUNT)\n",
    "    settlement = CALENDAR.advance(today, SETTLEMENT_DAYS, ql.Days)\n",
    "    instruments = [ql.SwapRateHelper(q, t, CALENDAR, FXD_FREQUENCY, BUSINESS_CONVENTION, DAY_COUNT, idx) \n",
    "                   for t, q in quote_handles]\n",
    "    crv = ql.PiecewiseLogLinearDiscount(settlement, instruments, DAY_COUNT)\n",
    "    crv.enableExtrapolation()\n",
    "    return crv\n"
   ]
  },
  {
   "cell_type": "code",
   "execution_count": null,
   "metadata": {},
   "outputs": [],
   "source": [
    "# UFR CONVENTIONS\n",
    "\n",
    "FIRST_SMOOTHING_POINT = ql.Period(20, ql.Years)\n",
    "ALPHA = 0.1;\n",
    "\n",
    "ufr_compounded = ql.InterestRate(0.023, DAY_COUNT, ql.Compounded, ql.Annual)\n",
    "ufr_continuous = ufr_compounded.equivalentRate(ql.Continuous, ql.Annual, 1.0).rate()"
   ]
  },
  {
   "cell_type": "code",
   "execution_count": null,
   "metadata": {},
   "outputs": [],
   "source": [
    "# VALUATION DATE\n",
    "\n",
    "today = CALENDAR.adjust(ql.Date(29, ql.March, 2019))\n",
    "ql.Settings.instance().evaluationDate = today"
   ]
  },
  {
   "cell_type": "code",
   "execution_count": null,
   "metadata": {},
   "outputs": [],
   "source": [
    "swap_quotes = read_swap_quotes(today)\n",
    "\n",
    "# UFR CURVE 2015 CONSTRUCTION\n",
    "    \n",
    "ftk_handle = ql.RelinkableYieldTermStructureHandle()\n",
    "llfr_handle = ql.RelinkableQuoteHandle()\n",
    "ufr_handle = ql.QuoteHandle(ql.SimpleQuote(ufr_continuous))\n",
    "\n",
    "def update_llfr_handle():\n",
    "    llfr = calculate_last_liquid_forward(ftk_handle, FIRST_SMOOTHING_POINT)\n",
    "    llfr_handle.linkTo(ql.SimpleQuote(llfr))\n",
    "    print('Observer notified.')\n",
    "    \n",
    "\n",
    "llfr_observer = ql.Observer(update_llfr_handle)\n",
    "for _, quote_handle in swap_quotes:\n",
    "    llfr_observer.registerWith(quote_handle)\n",
    "\n",
    "ftk_handle.linkTo(build_ftk_curve(today, swap_quotes))\n",
    "update_llfr_handle()\n",
    "ufr_crv = ql.UltimateForwardTermStructure(ftk_handle, llfr_handle, ufr_handle, FIRST_SMOOTHING_POINT, ALPHA)\n",
    "\n",
    "ufr_crv_handle = ql.YieldTermStructureHandle(ufr_crv)\n"
   ]
  },
  {
   "cell_type": "code",
   "execution_count": null,
   "metadata": {},
   "outputs": [],
   "source": [
    "print(swap_quotes[15][1].value())\n",
    "bump_quote(swap_quotes[15][1], 0.001)\n",
    "print(swap_quotes[15][1].value())"
   ]
  },
  {
   "cell_type": "code",
   "execution_count": null,
   "metadata": {},
   "outputs": [],
   "source": [
    "0.42445379975356323"
   ]
  },
  {
   "cell_type": "code",
   "execution_count": null,
   "metadata": {},
   "outputs": [],
   "source": [
    "llfr_handle.value()"
   ]
  },
  {
   "cell_type": "code",
   "execution_count": null,
   "metadata": {},
   "outputs": [],
   "source": [
    "ufr_crv_handle.discount(ftk_handle.referenceDate() + ql.Period(50, ql.Years))"
   ]
  }
 ],
 "metadata": {
  "kernelspec": {
   "display_name": "Python 3",
   "language": "python",
   "name": "python3"
  },
  "language_info": {
   "codemirror_mode": {
    "name": "ipython",
    "version": 3
   },
   "file_extension": ".py",
   "mimetype": "text/x-python",
   "name": "python",
   "nbconvert_exporter": "python",
   "pygments_lexer": "ipython3",
   "version": "3.8.3"
  }
 },
 "nbformat": 4,
 "nbformat_minor": 4
}
