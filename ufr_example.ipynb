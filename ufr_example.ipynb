{
 "cells": [
  {
   "cell_type": "code",
   "execution_count": null,
   "metadata": {},
   "outputs": [],
   "source": [
    "import QuantLib as ql"
   ]
  },
  {
   "cell_type": "code",
   "execution_count": null,
   "metadata": {},
   "outputs": [],
   "source": [
    "import csv\n",
    "import os\n",
    "from typing import List, Tuple\n",
    "import matplotlib\n",
    "import matplotlib.pyplot as plt\n",
    "from matplotlib.pyplot import figure\n",
    "from matplotlib.ticker import StrMethodFormatter\n",
    "\n",
    "\n",
    "def read_swap_quotes(date) -> List[ql.RelinkableQuoteHandle]:\n",
    "    root_dir = os.getcwd()\n",
    "    date_as_int = date.year() * 10000 + date.month() * 100 + date.dayOfMonth()\n",
    "    file_name = 'swap_rates_' + str(date_as_int) + '.csv'\n",
    "    file_path = os.path.join(root_dir, 'data/', file_name)\n",
    "    with open(file_path, 'rt') as file:\n",
    "        reader = csv.reader(file, delimiter=',')\n",
    "        rates = [(ql.PeriodParser.parse(str(r[0])), float(r[1])) for r in reader]\n",
    "        return [(q[0], ql.RelinkableQuoteHandle(ql.SimpleQuote(q[1]))) for q in rates]\n",
    "\n",
    "\n",
    "def read_liabilities() -> List[Tuple[ql.Date, float]]:\n",
    "    root_dir = os.getcwd()\n",
    "    file_name = 'liabilities.csv'\n",
    "    file_path = os.path.join(root_dir, 'data/', file_name)\n",
    "    with open(file_path, 'rt') as file:\n",
    "        reader = csv.reader(file, delimiter=',')\n",
    "        return [(ql.Date(str(r[0]), '%Y%m%d'), float(r[1])) for r in reader]\n",
    "    \n",
    "\n",
    "def calculate_last_liquid_forward(crv: ql.YieldTermStructureHandle, fsp: ql.Period):\n",
    "    dc = crv.dayCounter()\n",
    "    omega = 8.0 / 15.0\n",
    "    fsp_date = crv.referenceDate() + fsp\n",
    "    cut_off = crv.timeFromReference(fsp_date)\n",
    "    llfr_weights = ((ql.Period(25, ql.Years), 1.0), \n",
    "                    (ql.Period(30, ql.Years), 0.5), \n",
    "                    (ql.Period(40, ql.Years), 0.25), \n",
    "                    (ql.Period(50, ql.Years), 0.125))\n",
    "    llfr = 0.0\n",
    "    for tenor, weight in llfr_weights:\n",
    "        time_to_maturity = crv.timeFromReference(fsp_date + tenor)\n",
    "        llfr += weight * crv.forwardRate(\n",
    "            cut_off, time_to_maturity, ql.Continuous, ql.NoFrequency, True).rate()\n",
    "    return llfr\n",
    "\n",
    "\n",
    "def bump_quote(quote_handle: ql.RelinkableQuoteHandle, bump = 0.0001):\n",
    "    quote_handle.linkTo(ql.SimpleQuote(quote_handle.value() + bump))\n",
    "\n",
    "    \n",
    "def liabilities_pricer(discount_handle: ql.YieldTermStructureHandle):\n",
    "    \n",
    "    def value(cash_flows: List[Tuple[ql.Date, float]]) -> float:\n",
    "        return sum([discount_handle.discount(dt) * amount for dt, amount in cash_flows])\n",
    "\n",
    "    return value\n",
    "\n",
    "\n",
    "def plot_zero_curve(curve_handle: ql.YieldTermStructureHandle, tenors: List[ql.Period], title):\n",
    "    reference_date = curve_handle.referenceDate()\n",
    "    d_counter = curve_handle.dayCounter()\n",
    "    dates = [reference_date + tnr for tnr in tenors]\n",
    "    t = [curve_handle.timeFromReference(d) for d in dates]\n",
    "    z = [curve_handle.zeroRate(d, d_counter, ql.Continuous, ql.NoFrequency).rate() for d in dates]\n",
    "    fig, ax = plt.subplots()\n",
    "    ax.plot(t, z)\n",
    "    ax.set(xlabel='time', ylabel='zero', title=title)\n",
    "    ax.grid()\n",
    "    plt.show()"
   ]
  },
  {
   "cell_type": "code",
   "execution_count": null,
   "metadata": {},
   "outputs": [],
   "source": [
    "# SWAP INDEX CONVENTIONS\n",
    "\n",
    "SETTLEMENT_DAYS = 2\n",
    "BUSINESS_CONVENTION = ql.Unadjusted\n",
    "DAY_COUNT = ql.SimpleDayCounter()\n",
    "CALENDAR = ql.NullCalendar()\n",
    "CCY = ql.EURCurrency()\n",
    "FXD_FREQUENCY = ql.Annual\n",
    "FLT_TENOR = ql.Period(6, ql.Months)\n",
    "\n",
    "\n",
    "# FTK CURVE CONSTRUCTION FUNCTION\n",
    "\n",
    "def build_ftk_curve(valuation_date: ql.Date, quote_handles: List[ql.QuoteHandle]):\n",
    "    idx = ql.IborIndex(\"FTK_IDX\", FLT_TENOR, SETTLEMENT_DAYS, CCY, CALENDAR, BUSINESS_CONVENTION, False, DAY_COUNT)\n",
    "    settlement = CALENDAR.advance(today, SETTLEMENT_DAYS, ql.Days)\n",
    "    instruments = [ql.SwapRateHelper(q, t, CALENDAR, FXD_FREQUENCY, BUSINESS_CONVENTION, DAY_COUNT, idx) \n",
    "                   for t, q in quote_handles]\n",
    "    crv = ql.PiecewiseLogLinearDiscount(settlement, instruments, DAY_COUNT)\n",
    "    crv.enableExtrapolation()\n",
    "    return crv\n"
   ]
  },
  {
   "cell_type": "code",
   "execution_count": null,
   "metadata": {},
   "outputs": [],
   "source": [
    "# UFR CONVENTIONS\n",
    "\n",
    "FIRST_SMOOTHING_POINT = ql.Period(20, ql.Years)\n",
    "ALPHA = 0.1;\n",
    "\n",
    "ufr_compounded = ql.InterestRate(0.023, DAY_COUNT, ql.Compounded, ql.Annual)\n",
    "ufr_continuous = ufr_compounded.equivalentRate(ql.Continuous, ql.Annual, 1.0).rate()"
   ]
  },
  {
   "cell_type": "code",
   "execution_count": null,
   "metadata": {},
   "outputs": [],
   "source": [
    "# VALUATION DATE\n",
    "\n",
    "today = CALENDAR.adjust(ql.Date(29, ql.March, 2019))\n",
    "ql.Settings.instance().evaluationDate = today\n",
    "\n",
    "\n",
    "# READ SWAP RATES\n",
    "\n",
    "swap_quotes = read_swap_quotes(today)\n",
    "\n",
    "# UFR CURVE 2015 CONSTRUCTION\n",
    "    \n",
    "ftk_handle = ql.RelinkableYieldTermStructureHandle()\n",
    "llfr_handle = ql.RelinkableQuoteHandle()\n",
    "ufr_handle = ql.QuoteHandle(ql.SimpleQuote(ufr_continuous))\n",
    "\n",
    "def update_llfr_handle():\n",
    "    llfr = calculate_last_liquid_forward(ftk_handle, FIRST_SMOOTHING_POINT)\n",
    "    llfr_handle.linkTo(ql.SimpleQuote(llfr))\n",
    "    print('LLFR observer notified.')\n",
    "    \n",
    "\n",
    "llfr_observer = ql.Observer(update_llfr_handle)\n",
    "for _, quote_handle in swap_quotes:\n",
    "    llfr_observer.registerWith(quote_handle)\n",
    "\n",
    "ftk_handle.linkTo(build_ftk_curve(today, swap_quotes))\n",
    "update_llfr_handle()\n",
    "ufr_crv = ql.UltimateForwardTermStructure(ftk_handle, llfr_handle, ufr_handle, FIRST_SMOOTHING_POINT, ALPHA)\n",
    "\n",
    "ufr_handle = ql.YieldTermStructureHandle(ufr_crv)"
   ]
  },
  {
   "cell_type": "code",
   "execution_count": null,
   "metadata": {},
   "outputs": [],
   "source": [
    "# print(swap_quotes[15][1].value())\n",
    "# bump_quote(swap_quotes[15][1], 0.001)\n",
    "# print(swap_quotes[15][1].value())\n",
    "\n",
    "ftk_handle.discount(ql.Date(31, ql.December, 2020))"
   ]
  },
  {
   "cell_type": "code",
   "execution_count": null,
   "metadata": {},
   "outputs": [],
   "source": [
    "liabilities = read_liabilities()\n",
    "\n",
    "ftk_pricer = liabilities_pricer(ftk_handle)\n",
    "ufr_pricer = liabilities_pricer(ufr_handle)\n"
   ]
  },
  {
   "cell_type": "code",
   "execution_count": null,
   "metadata": {},
   "outputs": [],
   "source": [
    "npv_ftk = ftk_pricer(liabilities)\n",
    "print('FTK NPV ', npv_ftk)\n",
    "\n",
    "npv_ufr = ufr_pricer(liabilities)\n",
    "print('UFR NPV ', npv_ufr)"
   ]
  },
  {
   "cell_type": "code",
   "execution_count": null,
   "metadata": {},
   "outputs": [],
   "source": [
    "tenors = [ql.PeriodParser.parse(str(i) + 'y') for i in range(1, 101)]"
   ]
  },
  {
   "cell_type": "code",
   "execution_count": null,
   "metadata": {},
   "outputs": [],
   "source": [
    "plot_zero_curve(ufr_handle, tenors, 'UFR 2015 zeroes')"
   ]
  }
 ],
 "metadata": {
  "kernelspec": {
   "display_name": "Python 3",
   "language": "python",
   "name": "python3"
  },
  "language_info": {
   "codemirror_mode": {
    "name": "ipython",
    "version": 3
   },
   "file_extension": ".py",
   "mimetype": "text/x-python",
   "name": "python",
   "nbconvert_exporter": "python",
   "pygments_lexer": "ipython3",
   "version": "3.8.3"
  }
 },
 "nbformat": 4,
 "nbformat_minor": 4
}
