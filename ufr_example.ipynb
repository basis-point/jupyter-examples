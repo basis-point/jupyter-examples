{
 "cells": [
  {
   "cell_type": "code",
   "execution_count": null,
   "metadata": {},
   "outputs": [],
   "source": [
    "import QuantLib as ql"
   ]
  },
  {
   "cell_type": "code",
   "execution_count": null,
   "metadata": {},
   "outputs": [],
   "source": [
    "import csv\n",
    "import os\n",
    "\n",
    "\n",
    "def get_project_root():\n",
    "    '''\n",
    "    Returns the project root.\n",
    "    '''\n",
    "    return os.getcwd()\n",
    "\n",
    "\n",
    "def read_swap_rates_from_file(file_name):\n",
    "    root_dir = get_project_root()\n",
    "    file_path = os.path.join(root_dir, 'data/', file_name)\n",
    "    with open(file_path, 'rt') as file:\n",
    "        reader = csv.reader(file, delimiter=',')\n",
    "        rates = [(ql.PeriodParser.parse(str(r[0])), float(r[1])) for r in reader]\n",
    "    return rates"
   ]
  },
  {
   "cell_type": "code",
   "execution_count": null,
   "metadata": {},
   "outputs": [],
   "source": [
    "def calculate_last_liquid_forward(crv: ql.YieldTermStructureHandle, fsp: ql.Period):\n",
    "    dc = crv.dayCounter()\n",
    "    omega = 8.0 / 15.0\n",
    "    fsp_date = crv.referenceDate() + fsp\n",
    "    cut_off = crv.timeFromReference(fsp_date)\n",
    "    llfr_weights = ((ql.Period(25, ql.Years), 1.0), \n",
    "                    (ql.Period(30, ql.Years), 0.5), \n",
    "                    (ql.Period(40, ql.Years), 0.25), \n",
    "                    (ql.Period(50, ql.Years), 0.125))\n",
    "    llfr = 0.0\n",
    "    for tenor, weight in llfr_weights:\n",
    "        time_to_maturity = crv.timeFromReference(fsp_date + tenor)\n",
    "        llfr += weight * crv.forwardRate(\n",
    "            cut_off, time_to_maturity, ql.Continuous, ql.NoFrequency, True).rate()\n",
    "    return llfr\n"
   ]
  },
  {
   "cell_type": "code",
   "execution_count": null,
   "metadata": {},
   "outputs": [],
   "source": [
    "def bump_quote(quote_handle: ql.RelinkableQuoteHandle, bump = 0.0001):\n",
    "    quote_handle.linkTo(ql.SimpleQuote(quote_handle.value() + bump))"
   ]
  },
  {
   "cell_type": "code",
   "execution_count": null,
   "metadata": {},
   "outputs": [],
   "source": [
    "# SWAP INDEX CONVENTIONS\n",
    "\n",
    "ftk_crv_handle = ql.RelinkableYieldTermStructureHandle()\n",
    "\n",
    "settlement_days = 2\n",
    "business_convention = ql.Unadjusted\n",
    "day_count = ql.SimpleDayCounter()\n",
    "calendar = ql.NullCalendar()\n",
    "ccy = ql.EURCurrency()\n",
    "fixed_frequency = ql.Annual\n",
    "floating_tenor = ql.Period(6, ql.Months)\n",
    "\n",
    "ftk_idx = ql.IborIndex(\"FTK_IDX\", floating_tenor, settlement_days, ccy, calendar,\n",
    "                       business_convention, False, day_count, ftk_crv_handle)"
   ]
  },
  {
   "cell_type": "code",
   "execution_count": null,
   "metadata": {},
   "outputs": [],
   "source": [
    "# UFR CONVENTIONS\n",
    "\n",
    "ufr_compounded = ql.InterestRate(0.023, day_count, ql.Compounded, ql.Annual)\n",
    "ufr_continuous = ufr_compounded.equivalentRate(ql.Continuous, ql.Annual, 1.0).rate()\n",
    "ufr_quote_handle = ql.QuoteHandle(ql.SimpleQuote(ufr_continuous))\n",
    "\n",
    "first_smoothing_point = ql.Period(20, ql.Years)\n",
    "alpha = 0.1;"
   ]
  },
  {
   "cell_type": "code",
   "execution_count": null,
   "metadata": {},
   "outputs": [],
   "source": [
    "llfr_quote_handle = ql.RelinkableQuoteHandle()\n",
    "\n",
    "def update_llfr_handle():\n",
    "    llfr = calculate_last_liquid_forward(ftk_crv_handle, first_smoothing_point)\n",
    "    llfr_quote_handle.linkTo(ql.SimpleQuote(llfr))\n",
    "    print('LLFR observer notified.')\n",
    "    \n",
    "\n",
    "observer = ql.Observer(update_llfr_handle)"
   ]
  },
  {
   "cell_type": "code",
   "execution_count": null,
   "metadata": {},
   "outputs": [],
   "source": [
    "# VALUATION DATE\n",
    "\n",
    "today = calendar.adjust(ql.Date(29, ql.March, 2019))\n",
    "ql.Settings.instance().evaluationDate = today\n",
    "settlement = calendar.advance(today, settlement_days, ql.Days)"
   ]
  },
  {
   "cell_type": "code",
   "execution_count": null,
   "metadata": {},
   "outputs": [],
   "source": [
    "# SWAP RATES\n",
    "\n",
    "# swap_rates = [(ql.Period(1, ql.Years), -0.00315), \n",
    "#               (ql.Period(2, ql.Years), -0.00205), \n",
    "#               (ql.Period(3, ql.Years), -0.00144),\n",
    "#               (ql.Period(4, ql.Years), -0.00068),\n",
    "#               (ql.Period(5, ql.Years), 0.00014),  \n",
    "#               (ql.Period(6, ql.Years), 0.00103),\n",
    "#               (ql.Period(7, ql.Years), 0.00194),  \n",
    "#               (ql.Period(8, ql.Years), 0.00288),  \n",
    "#               (ql.Period(9, ql.Years), 0.00381),\n",
    "#               (ql.Period(10, ql.Years), 0.00471), \n",
    "#               (ql.Period(12, ql.Years), 0.0063),  \n",
    "#               (ql.Period(15, ql.Years), 0.00808),\n",
    "#               (ql.Period(20, ql.Years), 0.00973), \n",
    "#               (ql.Period(25, ql.Years), 0.01035), \n",
    "#               (ql.Period(30, ql.Years), 0.01055),\n",
    "#               (ql.Period(40, ql.Years), 0.0103), \n",
    "#               (ql.Period(50, ql.Years), 0.0103)]\n",
    "swap_rates = read_swap_rates_from_file('swap_rates_29032019.csv')\n",
    "\n",
    "swap_rate_quotes = [(q[0], ql.RelinkableQuoteHandle(ql.SimpleQuote(q[1]))) for q in swap_rates]\n",
    "\n",
    "# Link swap quotes to observer\n",
    "\n",
    "for _, quote_handle in swap_rate_quotes:\n",
    "    observer.registerWith(quote_handle)"
   ]
  },
  {
   "cell_type": "code",
   "execution_count": null,
   "metadata": {},
   "outputs": [],
   "source": [
    "# FTK CURVE CONSTRUCTION\n",
    "      \n",
    "instruments = [ql.SwapRateHelper(q, t, calendar, fixed_frequency, business_convention, day_count, ftk_idx) \n",
    "               for t, q in swap_rate_quotes]\n",
    "ftk_curve = ql.PiecewiseLogLinearDiscount(settlement, instruments, day_count)\n",
    "ftk_curve.enableExtrapolation()\n",
    "            \n",
    "ftk_crv_handle.linkTo(ftk_curve)"
   ]
  },
  {
   "cell_type": "code",
   "execution_count": null,
   "metadata": {},
   "outputs": [],
   "source": [
    "# Link swap quotes to observer\n",
    "\n",
    "for _, quote_handle in swap_rate_quotes:\n",
    "    observer.registerWith(quote_handle)\n",
    "\n",
    "# UFR CURVE CONSTRUCTION\n",
    "update_llfr_handle()\n",
    "ufr_curve = ql.UltimateForwardTermStructure(ftk_crv_handle, llfr_quote_handle, ufr_quote_handle, first_smoothing_point, alpha)"
   ]
  },
  {
   "cell_type": "code",
   "execution_count": null,
   "metadata": {},
   "outputs": [],
   "source": [
    "# print(swap_rate_quotes[0][1].value())\n",
    "# bump_quote(swap_rate_quotes[15][1], 0.001)\n",
    "# print(swap_rate_quotes[0][1].value())\n",
    "\n",
    "# ftk_crv_handle.discount(ftk_crv_handle.referenceDate() + ql.Period(50, ql.Years))\n",
    "ufr_curve.discount(ftk_crv_handle.referenceDate() + ql.Period(50, ql.Years))"
   ]
  },
  {
   "cell_type": "code",
   "execution_count": null,
   "metadata": {},
   "outputs": [],
   "source": [
    "0.42445379975356323"
   ]
  },
  {
   "cell_type": "code",
   "execution_count": null,
   "metadata": {},
   "outputs": [],
   "source": [
    "llfr_quote_handle.value()"
   ]
  },
  {
   "cell_type": "code",
   "execution_count": null,
   "metadata": {},
   "outputs": [],
   "source": [
    "0.02003708049348038"
   ]
  },
  {
   "cell_type": "code",
   "execution_count": null,
   "metadata": {},
   "outputs": [],
   "source": [
    "ql.PeriodParser.parse('1y')"
   ]
  }
 ],
 "metadata": {
  "kernelspec": {
   "display_name": "Python 3",
   "language": "python",
   "name": "python3"
  },
  "language_info": {
   "codemirror_mode": {
    "name": "ipython",
    "version": 3
   },
   "file_extension": ".py",
   "mimetype": "text/x-python",
   "name": "python",
   "nbconvert_exporter": "python",
   "pygments_lexer": "ipython3",
   "version": "3.8.3"
  }
 },
 "nbformat": 4,
 "nbformat_minor": 4
}
