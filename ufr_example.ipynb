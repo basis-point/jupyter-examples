{
 "cells": [
  {
   "cell_type": "markdown",
   "metadata": {},
   "source": [
    "# Introduction\n",
    "\n",
    "This notebook presents how to construct the Ultimate Forward Rate term structures, as prescribed by the Dutch National Bank (DNB), using the open source financial library `QuantLib`. It demonstrates the procedure to build term structures and to compute basic risk metrics. Also, a brief summary of the methodology is given to better understand the implementation.\n",
    "\n",
    "\n",
    "# FTK Curve Construction\n",
    "\n",
    "In the first step, before constructing the Ultimate Forward Rate curve, we need to bootstrap a term structure using the market input. \n",
    "\n",
    "The DNB-FTK methodology gives clear instructions regarding the market instruments that should be used, as well as the interpolation algorithm to be applied between the nodal points. The eligible market rates are CMPL Euribor 6m swaps (BID prices) for tenors 1 - 10, 12, 15, 20, 25, 30, 40 and 50 years.\n",
    "\n",
    "The required interpolation method assumes flat annually compounded forward rate, which can be expressed as:\n",
    "\n",
    "\\begin{equation*}\n",
    "(1+z(t,T_{i}))^{T_{i}-t} \\times (1 + f(t,T_{i},T_{i+1}))^{(T_{i+1} - T_{i})} = (1+z(t,T_{i+1}))^{T_{i+1}-t},\n",
    "\\end{equation*}\n",
    "\n",
    "where, $z(t,T_{i})$ is the zero (annually compounded) rate with maturity at time $T_{i}$ and $f(t,T_{i},T_{i+1})$ is the annually compounded forward rate between $T_{i}$ and $T_{i+1}$. \n",
    "\n",
    "The forward rate can be equivalently expressed in terms of discount factors as,\n",
    "\n",
    "\\begin{equation*}\n",
    "(1 + f(t,T_{i},T_{i+1}))^{(T_{i+1} - T_{i})} = \\left [ \\frac{P(t,T_{i})}{P(t,T_{i+1})} \\right ],\n",
    "\\end{equation*}\n",
    "\n",
    "because each discount factor can be presented as a function of annually compounded zero rate: \n",
    "\n",
    "\\begin{equation*}\n",
    "P(t,T_{i}) = (1+z(t,T_{i}))^{-(T_{i}-t)}.\n",
    "\\end{equation*}\n",
    "\n",
    "The interpolation used in the FTK curve assumes that between nodal points $[T_{i}, T_{i+1}]$ the annually compounded forward rate is constant. This can be summarized as follows:\n",
    "\n",
    "\\begin{equation*}\n",
    "P(t,T) = P(t,T_{i}) \\times (1 + \\underbrace{f(t,T_{i},T_{i+1})}_{\\text{constant}})^{-(T - T_{i})}, \n",
    "\\end{equation*}\n",
    "\n",
    "where $T_{i} \\leq T \\leq T_{i+1}$.\n",
    "\n",
    "Using the previous equation, we can relate the interpolated discount factor entirely to the neighbouring discount factors at nodes: \n",
    "\n",
    "\\begin{equation*}\n",
    "P(t,T) = P(t,T_{i}) \\times \\left[ \\frac{P(t,T_{i})}{P(t,T_{i+1})}\\right]^{\\frac{T_{i} - T}{T_{i+1} - T_{i}}},\n",
    "\\end{equation*}\n",
    "\n",
    "where $T_{i} \\leq T \\leq T_{i+1}$.\n",
    "\n",
    "An important consideration which may simplify the implementation is an observation that the above interpolation scheme is equivalent to interpolating linearly on log-discounts.\n",
    "\n",
    "That scheme can be summarized as follows:\n",
    "\n",
    "\\begin{equation*}\n",
    "\\log P(t,T) = \\log P(t,T_{i})  + \\frac{T - T_{i}}{T_{i+1} - T_{i}} [\\log P(t, T_{i+1}) - \\log P(t, T_{i})],\n",
    "\\end{equation*}\n",
    "\n",
    "where $T_{i} \\leq T \\leq T_{i+1}$.\n",
    "\n",
    "After some reorganization of the equation we obtain,\n",
    "\n",
    "\\begin{equation*}\n",
    "\\log P(t,T) = \\frac{T_{i+1} - T}{T_{i+1} - T_{i}} \\log P(t,T_{i})  + \\frac{T - T_{i}}{T_{i+1} - T_{i}} \\log P(t, T_{i+1}).\n",
    "\\end{equation*}\n",
    "\n",
    "\n",
    "Using basic properties of a logarithmic function we get,\n",
    "\n",
    "\\begin{equation*}\n",
    "\\log P(t,T) = \\log \\left [ P(t,T_{i})^{\\frac{T_{i+1} - T}{T_{i+1} - T_{i}}} \\right ] + \\log \\left [ P(t, T_{i+1})^{ \\frac{T - T_{i}}{T_{i+1} - T_{i}}}\\right ].\n",
    "\\end{equation*}\n",
    "\n",
    "Taking the exponent on both sides of the equation and reorganizing according to the properties of an exponential function,\n",
    "\n",
    "\\begin{equation*}\n",
    "P(t,T) = \\exp \\left \\{ \\log \\left [ P(t,T_{i})^{\\frac{T_{i+1} - T}{T_{i+1} - T_{i}}} \\right ] \\right \\} \\exp \\left \\{ \\log \\left [ P(t, T_{i+1})^{ \\frac{T - T_{i}}{T_{i+1} - T_{i}}}\\right ] \\right \\}.\n",
    "\\end{equation*}\n",
    "\n",
    "Finally, we arrive at,\n",
    "\n",
    "\\begin{equation*}\n",
    "P(t,T) = P(t,T_{i})^{\\frac{T_{i+1} - T}{T_{i+1} - T_{i}}} \\times P(t, T_{i+1})^{ \\frac{T - T_{i}}{T_{i+1} - T_{i}}} = P(t,T_{i}) \\times \\left[ \\frac{P(t,T_{i})}{P(t,T_{i+1})}\\right]^{\\frac{T_{i} - T}{T_{i+1} - T_{i}}},\n",
    "\\end{equation*}\n",
    "\n",
    "which proves the equivalence of the flat compounded forward interpolation with linear log-discount interpolation."
   ]
  },
  {
   "cell_type": "code",
   "execution_count": null,
   "metadata": {},
   "outputs": [],
   "source": [
    "import QuantLib as ql\n",
    "\n",
    "import csv\n",
    "from typing import List, Tuple\n",
    "\n",
    "\n",
    "def read_swap_quotes(date: ql.Date) -> List[Tuple[ql.Period, ql.RelinkableQuoteHandle]]:\n",
    "    date_as_int = date.year() * 10000 + date.month() * 100 + date.dayOfMonth()\n",
    "    file_path = 'data/swap_rates_' + str(date_as_int) + '.csv'\n",
    "    with open(file_path, 'rt') as file:\n",
    "        reader = csv.reader(file, delimiter=',')\n",
    "        rates = [(ql.PeriodParser.parse(str(r[0])), float(r[1])) for r in reader]\n",
    "        return [(q[0], ql.RelinkableQuoteHandle(ql.SimpleQuote(q[1]))) for q in rates]\n",
    "\n",
    "\n",
    "def read_liabilities() -> List[Tuple[ql.Date, float]]:\n",
    "    file_path = 'data/liabilities.csv'\n",
    "    with open(file_path, 'rt') as file:\n",
    "        reader = csv.reader(file, delimiter=',')\n",
    "        return [(ql.Date(str(r[0]), '%Y%m%d'), float(r[1])) for r in reader]\n",
    "    \n",
    "\n",
    "def read_dnb_ufr_zero_rates(date: ql.Date):\n",
    "    date_as_int = date.year() * 10000 + date.month() * 100 + date.dayOfMonth()\n",
    "    file_path = 'data/dnb_ufr_zero_rates_' + str(date_as_int) + '.csv'\n",
    "    with open(file_path, 'rt') as file:\n",
    "        reader = csv.reader(file, delimiter=',')\n",
    "        return [(ql.PeriodParser().parse(str(r[0])), float(r[1])) for r in reader]\n",
    "    "
   ]
  },
  {
   "cell_type": "markdown",
   "metadata": {},
   "source": [
    "We need to introduce a number of helper functions, e.g. to retrieve market data or other inputs required for this exercise, just like the functions defined in the cell above. \n",
    "\n",
    "Note that `read_swap_quotes` reads a list of tuples of type `(ql.Period, ql.RelinkableQuoteHandle)`. \n",
    "Storing any market data information in `ql.RelinkableQuoteHandle` gives better control over the data, e.g. for the purposes of stress-testing or computing numerical sensitivities. "
   ]
  },
  {
   "cell_type": "markdown",
   "metadata": {},
   "source": [
    "# UFR Curve(s) Construction\n",
    "\n",
    "\n",
    "At the moment of writing this note (beginning 2021) three different modifications of the UFR model (2015, 2021, 2024) were in use. These correspond to the year when the model came, or will come, to usage in the regulatory reporting. We will briefly go through all of them, for completeness. \n",
    "\n",
    "## Ultimate forward rate\n",
    "\n",
    "According to the UFR methodology, the Ultimate Forward Rate is equal to 120 months' average of the annually compounded forwards between 20 and 21 years to maturity (for the 2015 version of the model), or between 30 and 31 years to maturity (for the 2024 version of the model), recorded at each month's end, i.e.\n",
    "\n",
    "\\begin{equation*}\n",
    "UFR(t) = \\frac{1}{120} \\sum_{m \\in M(t)}{f(m, T_{\\text{FSP}}, T_{\\text{FSP + 1}})},\n",
    "\\end{equation*}\n",
    "\n",
    "where FSP is the first smoothing point, which falls at the 20 or 30 years tenor, for 2015 and 2025 models respectively. $M(t)$ is a set of last business days in a given month.\n",
    "\n",
    "Recall that the relation between the continuous and annual rates:\n",
    "\n",
    "\\begin{equation*}\n",
    "z_c(t,T) = \\log [1 + z(t,T)],\n",
    "\\end{equation*}\n",
    "\n",
    "\\begin{equation*}\n",
    "UFR_c(t) = \\log [1 + UFR(t)].\n",
    "\\end{equation*}\n",
    "\n",
    "The final UFR rate is rounded to the third decimal point.\n",
    "On the basis of the earlier bootstrapped market/FTK curve, the UFR term structure is extrapolated past the FSP. \n",
    "\n",
    "## Last liquid forward rate - 2015 version\n",
    "\n",
    "Next to the UFR rate, another smoothing component is the last liquid forward rate (LLFR).\n",
    "The 2015 version of the model uses the following formula to obtain the LLFR:\n",
    "\n",
    "\\begin{equation*}\n",
    "LLFR^{2015}(t) = \\omega_{2015} \\left ( f_{c}(t,T_{20},T_{25}) + \\frac{1}{2}f_{c}(t,T_{20},T_{30})+\\frac{1}{4}f_{c}(t,T_{20},T_{40})+\\frac{1}{8}f_{c}(t,T_{20},T_{50}) \\right ),\n",
    "\\end{equation*}\n",
    "\n",
    "where $\\omega_{2015} = \\frac{8}{15}$.\n",
    "\n",
    "## Last liquid forward rate - 2024 version\n",
    "\n",
    "The 2024 version defines the LLFR as:\n",
    "\n",
    "\\begin{equation*}\n",
    "LLFR^{2024}(t) = \\omega_{2024} \\left ( \\frac{2}{3}f_{c}(t,T_{30},T_{40})+\\frac{1}{3}f_{c}(t,T_{30},T_{50}) \\right ),\n",
    "\\end{equation*}\n",
    "\n",
    "where $\\omega_{2024} = 1$.\n",
    "\n",
    "On the top of that, the regulator requires to calculate the $LLFR^{2024}$ as the average of $LLFR^{2024}(t)$ computed on the last five business days of a given month.\n",
    "\n",
    "Note here that $f_{c}(t,T_{N},T_{N+1})$ is a continuously compounded forward rate for period $[T_{N},T_{N+1}]$. \n",
    "\n",
    "## Term structure extrapolation\n",
    "\n",
    "The extrapolation of the forward rate beyond FSP is equal to:\n",
    "\n",
    "\\begin{equation*}\n",
    "f_{c}(t,T_{\\text{FSP}},T_{\\text{FSP}+h}) = UFR_{c}(t)+[LLFR(t)-UFR_{c}(t)]B(h),\n",
    "\\end{equation*}\n",
    "\n",
    "where $B(h)=\\frac{1-\\exp (-\\alpha h )}{\\alpha h}$, with $\\alpha^{2015} = 0.1$ and $\\alpha^{2024} = 0.02$.\n",
    "\n",
    "Finally, we obtain the extrapolated continuous zero rate past FSP,\n",
    "\n",
    "\\begin{equation*}\n",
    "z_{c}(t,T_{\\text{FSP}+h}) = \\frac{(T_{\\text{FSP}} - t) z_{c}(t, T_{\\text{FSP}}) + (T_{\\text{FSP} + h} - T_{\\text{FSP}}) f_{c}(t,T_{\\text{FSP}},T_{\\text{FSP}+h})}{T_{\\text{FSP} + h} - t}.\n",
    "\\end{equation*}\n",
    "\n",
    "At last, we need to transform the continuous rates into annualized ones,\n",
    "\n",
    "\\begin{equation*}\n",
    "z(t,T_{\\text{FSP}+h}) = \\exp [z_{c}(t,T_{\\text{FSP}+h})] - 1.\n",
    "\\end{equation*}\n",
    "\n",
    "These rates are being published on the DNB website with precision to the 5th decimal point."
   ]
  },
  {
   "cell_type": "code",
   "execution_count": null,
   "metadata": {},
   "outputs": [],
   "source": [
    "def calculate_last_liquid_forward(\n",
    "        crv: ql.YieldTermStructureHandle, \n",
    "        fsp: ql.Period,\n",
    "        weights: List[Tuple[ql.Period, float]],\n",
    "        omega: float) -> float:\n",
    "    d_counter = crv.dayCounter()\n",
    "    reference_date = crv.referenceDate()\n",
    "    fsp_date = reference_date + fsp\n",
    "    llfr = 0.0\n",
    "    for tenor, weight in weights:\n",
    "        end_date = reference_date + tenor\n",
    "        llfr += weight * crv.forwardRate(fsp_date, end_date, d_counter, ql.Continuous).rate()\n",
    "    return llfr * omega\n"
   ]
  },
  {
   "cell_type": "markdown",
   "metadata": {},
   "source": [
    "Note that `calculate_last_liquid_forward` implements the LLFR formula described above. Depending on the provided input for `weights`, `omega` and `fsp` the result will correspond to either 2015 or 2025 model."
   ]
  },
  {
   "cell_type": "code",
   "execution_count": null,
   "metadata": {},
   "outputs": [],
   "source": [
    "# SWAP INDEX CONVENTIONS\n",
    "\n",
    "SETTLEMENT_DAYS = 2\n",
    "BUSINESS_CONVENTION = ql.Unadjusted\n",
    "DAY_COUNT = ql.SimpleDayCounter()\n",
    "CALENDAR = ql.NullCalendar()\n",
    "CCY = ql.EURCurrency()\n",
    "FXD_FREQUENCY = ql.Annual\n",
    "FLT_TENOR = ql.Period(6, ql.Months)\n",
    "\n",
    "\n",
    "# FTK CURVE CONSTRUCTION FUNCTION\n",
    "\n",
    "def build_ftk_curve(valuation_date: ql.Date, quote_handles: List[ql.QuoteHandle]) -> ql.YieldTermStructure:\n",
    "    idx = ql.IborIndex(\"FTK_IDX\", FLT_TENOR, SETTLEMENT_DAYS, CCY, CALENDAR, BUSINESS_CONVENTION, False, DAY_COUNT)\n",
    "    settlement = CALENDAR.advance(today, SETTLEMENT_DAYS, ql.Days)\n",
    "    instruments = [ql.SwapRateHelper(q, t, CALENDAR, FXD_FREQUENCY, BUSINESS_CONVENTION, DAY_COUNT, idx) \n",
    "                   for t, q in quote_handles]\n",
    "    crv = ql.PiecewiseLogLinearDiscount(settlement, instruments, DAY_COUNT)\n",
    "    crv.enableExtrapolation()\n",
    "    return crv\n"
   ]
  },
  {
   "cell_type": "markdown",
   "metadata": {},
   "source": [
    "`build_ftk_curve` constructs the market term structure according to the guidelines of the DNB. As mentioned in the previous section, in order to replicate the DNB market curve (which is the basis for further constructing the UFR curve) we need to use linear interpolation on the logarithms of the discount factors. That can be achieved with `ql.PiecewiseLogLinearDiscount` function.\n",
    "\n",
    "The interest rate swap instruments (created via `ql.SwapRateHelper`) that are used to bootstrap the curve follow simplified market conventions - with no business date adjustments and day count fractions expressed as rational numbers.\n",
    "\n",
    "The example below illustrates what the simple day counter does."
   ]
  },
  {
   "cell_type": "code",
   "execution_count": null,
   "metadata": {},
   "outputs": [],
   "source": [
    "# SIMPLE DAY COUNTER EXAMPLE:\n",
    "\n",
    "d1 = ql.Date(1, ql.January, 2020)\n",
    "d2 = ql.Date(1, ql.July, 2020)\n",
    "d3 = ql.Date(1, ql.January, 2021)\n",
    "\n",
    "print(f'Year fraction between {d1} and {d2} equals {DAY_COUNT.yearFraction(d1, d2)}')\n",
    "print(f'Year fraction between {d2} and {d3} equals {DAY_COUNT.yearFraction(d2, d3)}')\n",
    "print(f'Year fraction between {d1} and {d3} equals {DAY_COUNT.yearFraction(d1, d3)}')"
   ]
  },
  {
   "cell_type": "code",
   "execution_count": null,
   "metadata": {},
   "outputs": [],
   "source": [
    "# UFR 2015 CONVENTIONS\n",
    "\n",
    "FIRST_SMOOTHING_POINT_2015 = ql.Period(20, ql.Years)\n",
    "ALPHA_2015 = 0.1;\n",
    "\n",
    "OMEGA_2015 = 8.0 / 15.0\n",
    "WEIGHTS_2015 = ((ql.Period(25, ql.Years), 1.0), \n",
    "                (ql.Period(30, ql.Years), 0.5), \n",
    "                (ql.Period(40, ql.Years), 0.25), \n",
    "                (ql.Period(50, ql.Years), 0.125))\n",
    "\n",
    "ufr_2015_compounded = ql.InterestRate(0.018, DAY_COUNT, ql.Compounded, ql.Annual)\n",
    "ufr_2015_continuous = ufr_2015_compounded.equivalentRate(ql.Continuous, ql.NoFrequency, 1.0).rate()\n",
    "ufr_2015_handle = ql.QuoteHandle(ql.SimpleQuote(ufr_2015_continuous))"
   ]
  },
  {
   "cell_type": "code",
   "execution_count": null,
   "metadata": {},
   "outputs": [],
   "source": [
    "# UFR 2024 CONVENTIONS\n",
    "\n",
    "FIRST_SMOOTHING_POINT_2024 = ql.Period(30, ql.Years)\n",
    "ALPHA_2024 = 0.02;\n",
    "\n",
    "OMEGA_2024 = 1.0\n",
    "WEIGHTS_2024 = ((ql.Period(40, ql.Years), 2.0 / 3.0), (ql.Period(50, ql.Years), 1.0 / 3.0))\n",
    "\n",
    "ufr_2024_compounded = ql.InterestRate(0.016, DAY_COUNT, ql.Compounded, ql.Annual)\n",
    "ufr_2024_continuous = ufr_2024_compounded.equivalentRate(ql.Continuous, ql.NoFrequency, 1.0).rate()\n",
    "ufr_2024_handle = ql.QuoteHandle(ql.SimpleQuote(ufr_2024_continuous))"
   ]
  },
  {
   "cell_type": "markdown",
   "metadata": {},
   "source": [
    "The above cells define the parameters for the UFR curve for both 2015 and 2024 definitions of the model. \n",
    "\n",
    "Note that, in line with what was mentioned in the section describing the methodology, the UFR rate is first calculated as an average of 120 historic, end of month, annually compounded forward rates. Those are stored as `ql.InterestRate` objects, converted to their continuous equivalents and later passed to the curve constructor as `ql.QuoteHandle`.\n",
    "\n",
    "We do not calculate the average here for the sake of brevity, only assume the rates upfront. Those are consistent with the rates observed by end January 2021."
   ]
  },
  {
   "cell_type": "code",
   "execution_count": null,
   "metadata": {},
   "outputs": [],
   "source": [
    "# VALUATION DATE\n",
    "\n",
    "today = CALENDAR.adjust(ql.Date(29, ql.January, 2021))\n",
    "ql.Settings.instance().evaluationDate = today\n",
    "\n",
    "# READ SWAP RATES\n",
    "\n",
    "swap_quotes = read_swap_quotes(today)\n",
    "\n",
    "# RESERVE A PLACEHOLDER FOR FTK CURVE HANDLE\n",
    "\n",
    "ftk_handle = ql.RelinkableYieldTermStructureHandle()\n",
    "ftk_handle.linkTo(build_ftk_curve(today, swap_quotes))"
   ]
  },
  {
   "cell_type": "markdown",
   "metadata": {},
   "source": [
    "In `QuantLib` the evaluation date is managed via a global setting, which needs to be set prior to any performed calculations.\n",
    "\n",
    "Recall that `read_swap_quotes` retrieves the swap rates with the associated tenors into a list of tuples of type `(ql.Period, ql.RelinkableQuoteHandle)` and can be inspected in a straightforward way."
   ]
  },
  {
   "cell_type": "code",
   "execution_count": null,
   "metadata": {},
   "outputs": [],
   "source": [
    "for tenor, quote in swap_quotes:\n",
    "    print(f'Tenor: {tenor} Rate: {quote.value()}')"
   ]
  },
  {
   "cell_type": "markdown",
   "metadata": {},
   "source": [
    "Before proceeding to the next section, we need to take a moment to demonstrate how to define an observer in `QuantLib` and then link it to an observable.\n",
    "\n",
    "Observer can be defined by passing a function (callable) which is executed once the observer is notified by the observable about a change. So, we expect `notify_observer` to be executed and then to print a message.\n",
    "\n",
    "We defined an observable as `ql.RelinkableQuoteHandle()` and subscribed it to the observer. Note that `ql.RelinkableQuoteHandle()` is a `ql.Observable`."
   ]
  },
  {
   "cell_type": "code",
   "execution_count": null,
   "metadata": {},
   "outputs": [],
   "source": [
    "observable = ql.RelinkableQuoteHandle()\n",
    "\n",
    "def notify_observer():\n",
    "    print(f'Observer notified! The value is now {observable.value()}')\n",
    "    \n",
    "\n",
    "observer = ql.Observer(notify_observer)\n",
    "\n",
    "# Subscribe to observer\n",
    "observer.registerWith(observable)"
   ]
  },
  {
   "cell_type": "markdown",
   "metadata": {},
   "source": [
    "In the final step we update the observable (by linking it to a new quote) just to spot that the observer was indeed notified."
   ]
  },
  {
   "cell_type": "code",
   "execution_count": null,
   "metadata": {},
   "outputs": [],
   "source": [
    "observable.linkTo(ql.SimpleQuote(0.0))\n",
    "observable.linkTo(ql.SimpleQuote(0.01))\n",
    "observable.linkTo(ql.SimpleQuote(20.01))"
   ]
  },
  {
   "cell_type": "code",
   "execution_count": null,
   "metadata": {},
   "outputs": [],
   "source": [
    "# LAST LIQUID FORWARD RATE 2015 OBSERVER\n",
    "\n",
    "def llfr_2015():\n",
    "    return calculate_last_liquid_forward(ftk_handle, FIRST_SMOOTHING_POINT_2015, WEIGHTS_2015, OMEGA_2015)\n",
    "\n",
    "\n",
    "llfr_2015_handle = ql.RelinkableQuoteHandle(ql.SimpleQuote(llfr_2015()))\n",
    "\n",
    "def update_llfr_handle_2015():\n",
    "    llfr_2015_handle.linkTo(ql.SimpleQuote(llfr_2015()))\n",
    "    \n",
    "\n",
    "llfr_2015_observer = ql.Observer(update_llfr_handle_2015)\n",
    "for _, quote_handle in swap_quotes:\n",
    "    llfr_2015_observer.registerWith(quote_handle)\n"
   ]
  },
  {
   "cell_type": "markdown",
   "metadata": {},
   "source": [
    "The above presented reasoning is now applied to notify an \"observer\" about updates to the Last Liquid Forward Rate, which is defined here as a quote handle. That observer is the UFR curve.\n",
    "\n",
    "The purpose of this setup is to ensure that any alteration of the market rates in `swap_quotes` will not only be immediately reflected on the `ftk_handle` (which by construction is an observer of those), but also on the LLFR. \n",
    "\n",
    "The end goal is to create a chain reaction in the UFR curve and update all its components that are passed as handles (`ftk_handle`, `llfr_2015_handle` or `ufr_2024_handle`) after changes in any of its constituents. "
   ]
  },
  {
   "cell_type": "code",
   "execution_count": null,
   "metadata": {},
   "outputs": [],
   "source": [
    "# LAST LIQUID FORWARD RATE 2024 OBSERVER\n",
    "\n",
    "AVERAGE_POINTS = 5\n",
    "\n",
    "# BUILD FTK CURVES FOR 4 PREVIOUS BUSINESS DAYS\n",
    "\n",
    "previous_valuation_dates = [CALENDAR.advance(today, -i, ql.Days) for i in range(1, AVERAGE_POINTS)]\n",
    "previous_ftk_curves_handles = [ql.YieldTermStructureHandle(build_ftk_curve(today, read_swap_quotes(dt))) \n",
    "                               for dt in previous_valuation_dates]\n",
    "previous_ftk_curves_handles.append(ftk_handle)\n",
    "\n",
    "def llfr_2024():\n",
    "    return sum([calculate_last_liquid_forward(crv_hndl, FIRST_SMOOTHING_POINT_2024, WEIGHTS_2024, OMEGA_2024) \n",
    "                for crv_hndl in previous_ftk_curves_handles]) / AVERAGE_POINTS\n",
    "\n",
    "\n",
    "llfr_2024_handle = ql.RelinkableQuoteHandle(ql.SimpleQuote(llfr_2024()))\n",
    "\n",
    "def update_llfr_handle_2024():\n",
    "    llfr_2024_handle.linkTo(ql.SimpleQuote(llfr_2024()))\n",
    "    \n",
    "\n",
    "llfr_2024_observer = ql.Observer(update_llfr_handle_2024)\n",
    "for _, quote_handle in swap_quotes:\n",
    "    llfr_2024_observer.registerWith(quote_handle)"
   ]
  },
  {
   "cell_type": "markdown",
   "metadata": {},
   "source": [
    "Same procedure is applied for 2024 LLFR. The only relevant difference is that it consists of the LLFRs observed on the last five business days of the month.\n",
    "\n",
    "A careful reader will notice that all curves are build with the same valuation date. `today` is still being passed instead of `dt`. The most \"correct\" approach would be to update `ql.Settings.instance().evaluationDate`. That would become a very cumbersome task in the context of this exercise. Secondly, given the fact that this setup assumes that every day in the calendar year is a business day, the resulting miscalculation is very minor."
   ]
  },
  {
   "cell_type": "code",
   "execution_count": null,
   "metadata": {},
   "outputs": [],
   "source": [
    "# UFR CURVE 2015\n",
    "\n",
    "ufr_2015_crv = ql.UltimateForwardTermStructure(\n",
    "        ftk_handle, \n",
    "        llfr_2015_handle, \n",
    "        ufr_2015_handle, \n",
    "        FIRST_SMOOTHING_POINT_2015, \n",
    "        ALPHA_2015)\n",
    "ufr_2015_crv.enableExtrapolation()\n",
    "ufr_2015_handle = ql.YieldTermStructureHandle(ufr_2015_crv)"
   ]
  },
  {
   "cell_type": "code",
   "execution_count": null,
   "metadata": {},
   "outputs": [],
   "source": [
    "# UFR CURVE 2024\n",
    "\n",
    "ufr_2024_crv = ql.UltimateForwardTermStructure(\n",
    "        ftk_handle, \n",
    "        llfr_2024_handle, \n",
    "        ufr_2024_handle, \n",
    "        FIRST_SMOOTHING_POINT_2024, \n",
    "        ALPHA_2024)\n",
    "ufr_2024_crv.enableExtrapolation()\n",
    "ufr_2024_handle = ql.YieldTermStructureHandle(ufr_2024_crv)"
   ]
  },
  {
   "cell_type": "markdown",
   "metadata": {},
   "source": [
    "Both versions of the UFR curve are constructed above."
   ]
  },
  {
   "cell_type": "code",
   "execution_count": null,
   "metadata": {},
   "outputs": [],
   "source": [
    "# UFR CURVE 2021\n",
    "\n",
    "def weighting_function(first: float, second: float) -> float:\n",
    "    return 0.75 * first + 0.25 * second\n",
    "\n",
    "ufr_2021_crv = ql.CompositeZeroYieldStructure(ufr_2015_handle, ufr_2024_handle, weighting_function, ql.Compounded, ql.Annual)\n",
    "ufr_2021_crv.enableExtrapolation()\n",
    "ufr_2021_handle = ql.YieldTermStructureHandle(ufr_2021_crv)"
   ]
  },
  {
   "cell_type": "markdown",
   "metadata": {},
   "source": [
    "The DNB decided to introduce the new UFR methodology (labelled as 2024) gradually. The transition begins in 2021 and assumes that between 2021-2023 a hybrid version of the UFR curve will be in use to smoothen the impact of moving to the new methodology.\n",
    "\n",
    "This means that the zero, annually compounded rates from the UFR curve will be a weighted average of the zero rates (with the same compounding) computed by both UFR 2015 and UFR 2024 curves, i.e.\n",
    "\n",
    "\\begin{equation*}\n",
    "z_{2021}(t,T) = \\gamma_{2015} \\times z_{2015}(t,T) + \\gamma_{2024} \\times z_{2024}(t,T),\n",
    "\\end{equation*}\n",
    "\n",
    "where $t \\leq T$, $\\gamma_{2015} + \\gamma_{2024} = 1$. In fact, for 2021 reporting we have $\\gamma_{2015}=0.75$ and $\\gamma_{2024}=0.25$.\n",
    "\n",
    "`QuantLib` allows to construct such a term structure with `ql.CompositeZeroYieldStructure`. We need to pass the two term structures, a weighting function defining the relationship between the zero rates and the compounding which those rates should follow. That is done in the cell above. "
   ]
  },
  {
   "cell_type": "code",
   "execution_count": null,
   "metadata": {},
   "outputs": [],
   "source": [
    "import datetime\n",
    "import matplotlib.pyplot as plt\n",
    "from matplotlib.ticker import StrMethodFormatter\n",
    "\n",
    "# READ IN THE LIABILITIES\n",
    "\n",
    "liabilities = read_liabilities()\n",
    "\n",
    "# PRODUCE A PLOT THEREOF\n",
    "\n",
    "plt.figure(num=None, figsize=(10, 5), dpi=100, facecolor='w', edgecolor='k')\n",
    "width = 100\n",
    "\n",
    "title=f'Stylized set of liabilities'\n",
    "plt.title(title)\n",
    "\n",
    "dates, flows = zip(*liabilities)\n",
    "dates = [datetime.datetime(d.year(), d.month(), d.dayOfMonth()) for d in dates]\n",
    "plt.bar(dates, flows, width, color='#222f3e', label=\"Liabilities\")\n",
    "plt.gca().yaxis.set_major_formatter(StrMethodFormatter('{x:,.0f}')) # No decimal places\n",
    "plt.xlabel('maturity')\n",
    "plt.ylabel('amount in EUR')\n",
    "plt.show()"
   ]
  },
  {
   "cell_type": "markdown",
   "metadata": {},
   "source": [
    "We use a stylized set of pension liabilities, summarized in the graph above. "
   ]
  },
  {
   "cell_type": "code",
   "execution_count": null,
   "metadata": {},
   "outputs": [],
   "source": [
    "def liabilities_pricer(discount_handle: ql.YieldTermStructureHandle):\n",
    "    \n",
    "    def value(cash_flows: List[Tuple[ql.Date, float]]) -> float:\n",
    "        return sum([discount_handle.discount(dt) * amount for dt, amount in cash_flows])\n",
    "\n",
    "    return value\n",
    "\n",
    "\n",
    "ftk_pricer = liabilities_pricer(ftk_handle)\n",
    "ufr_2015_pricer = liabilities_pricer(ufr_2015_handle)\n",
    "ufr_2024_pricer = liabilities_pricer(ufr_2024_handle)\n",
    "ufr_2021_pricer = liabilities_pricer(ufr_2021_handle)"
   ]
  },
  {
   "cell_type": "markdown",
   "metadata": {},
   "source": [
    "There are many ways to compute a an `npv` of a set of cash flows in `QuantLib`. What we do is capture the discount handle and use a callable pricer to discount the liabilities. \n",
    "\n",
    "The obtained values are presented below."
   ]
  },
  {
   "cell_type": "code",
   "execution_count": null,
   "metadata": {},
   "outputs": [],
   "source": [
    "npv_ftk = ftk_pricer(liabilities)\n",
    "print('FTK NPV ', '{:,.0f}'.format(npv_ftk))\n",
    "\n",
    "npv_ufr_2015 = ufr_2015_pricer(liabilities)\n",
    "print('UFR 2015 NPV ', '{:,.0f}'.format(npv_ufr_2015))\n",
    "\n",
    "npv_ufr_2024 = ufr_2024_pricer(liabilities)\n",
    "print('UFR 2024 NPV ', '{:,.0f}'.format(npv_ufr_2024))\n",
    "\n",
    "npv_ufr_2021 = ufr_2021_pricer(liabilities)\n",
    "print('UFR 2021 NPV ', '{:,.0f}'.format(npv_ufr_2021))"
   ]
  },
  {
   "cell_type": "code",
   "execution_count": null,
   "metadata": {
    "scrolled": false
   },
   "outputs": [],
   "source": [
    "def zero_rates(curve_handle: ql.YieldTermStructureHandle, tenors: List[ql.Period]) -> List[Tuple[float, float]]:\n",
    "    reference_date = curve_handle.referenceDate()\n",
    "    d_counter = curve_handle.dayCounter()\n",
    "    dates = [reference_date + tnr for tnr in tenors]\n",
    "    t = [curve_handle.timeFromReference(d) for d in dates]\n",
    "    z = [curve_handle.zeroRate(d, d_counter, ql.Compounded, ql.Annual).rate() for d in dates]\n",
    "    return list(zip(t, z))\n",
    "\n",
    "\n",
    "tenors = [ql.PeriodParser.parse(str(i) + 'y') for i in range(1, 101)]\n",
    "\n",
    "plt.figure(num=None, figsize=(10, 5), dpi=100, facecolor='w', edgecolor='k')\n",
    "plt.title(f'Comparison of zero rates for the market, UFR 2015, 2024 and 2021 curves as of {today}')\n",
    "plt.xlabel('years to maturity')\n",
    "plt.ylabel('zero rate')\n",
    "\n",
    "t, ftk_zeroes = zip(*zero_rates(ftk_handle, tenors))\n",
    "plt.plot(t, ftk_zeroes, \"#222f3e\", label=\"Market / FTK\")\n",
    "\n",
    "_, ufr_2015_zeroes = zip(*zero_rates(ufr_2015_handle, tenors))\n",
    "plt.plot(t, ufr_2015_zeroes, \"#00FF7F\", label=\"UFR 2015\")\n",
    "\n",
    "_, ufr_2021_zeroes = zip(*zero_rates(ufr_2021_handle, tenors))\n",
    "plt.plot(t, ufr_2021_zeroes, \"#00d2d3\", label=\"UFR 2021\")\n",
    "\n",
    "_, ufr_2024_zeroes = zip(*zero_rates(ufr_2024_handle, tenors))\n",
    "plt.plot(t, ufr_2024_zeroes, \"#F96714\", label=\"UFR 2024\")\n",
    "\n",
    "plt.legend(loc=\"upper left\")\n",
    "plt.gca().yaxis.set_major_formatter(StrMethodFormatter('{x:,.2%}'))\n",
    "plt.show()"
   ]
  },
  {
   "cell_type": "markdown",
   "metadata": {},
   "source": [
    "The graph shows the differences between the zero rates (annually compounded) for different flavours of the UFR curve, as well as the market curve.\n",
    "\n",
    "The term structures behave in line with the intuition. UFR 2015 starts to deviate from the market / FTK curve past 20 years tenor, which is its first smoothing point threshold and increases to the level of roughly 1.25% at 100 years to maturity. \n",
    "\n",
    "UFR 2024 is following the market levels up to 30 years tenor, in line with its first smoothing point. The curve is noticeable flatter than the 2015 counterpart. \n",
    "\n",
    "Finally, in between the two we have the weighted curve.\n"
   ]
  },
  {
   "cell_type": "code",
   "execution_count": null,
   "metadata": {},
   "outputs": [],
   "source": [
    "dnb_rates = [r for _, r in read_dnb_ufr_zero_rates(today)]\n",
    "differences = [(z_dnb-z_ql) * 10000 for z_dnb, z_ql in zip(dnb_rates, ufr_2021_zeroes)]\n",
    "\n",
    "plt.figure(num=None, figsize=(10, 5), dpi=100, facecolor='w', edgecolor='k')\n",
    "plt.title(f'Differences between the expected (DNB) and the computed compounded UFR zero rates')\n",
    "plt.xlabel('years to maturity')\n",
    "plt.ylabel('difference in bps')\n",
    "\n",
    "plt.plot(differences, color=\"#222f3e\", label=\"difference in bps\")\n",
    "plt.plot([0.05 for i in range(100)], linestyle='--', color='#F96714', label=\"difference bandwith\")\n",
    "plt.plot([-0.05 for i in range(100)], linestyle='--', color='#F96714') \n",
    "plt.ylim(-3.2, 1.1)\n",
    "plt.legend(loc=\"upper right\")\n",
    "plt.show()"
   ]
  },
  {
   "cell_type": "markdown",
   "metadata": {},
   "source": [
    "We can also compare the computed annually compounded zero rates with the official rates published by the DNB. \n",
    "\n",
    "Given that the required precision is up to the 5th decimal point, the computed rates should not deviate from the official ones by more than 0.05 bps. The plot above illustrates the acceptable bandwith.\n",
    "\n",
    "After rounding the computed rates as well, the expected total difference should be equal to zero. **Although, given that the market data set comes from a different data source, we do expect to observe differences, as shown above.** Those differences would disappear completely if the official data was used and the graph would look more like the one below (note the change in scale on the y-axis)."
   ]
  },
  {
   "cell_type": "code",
   "execution_count": null,
   "metadata": {},
   "outputs": [],
   "source": [
    "from IPython.display import Image\n",
    "Image(filename='data/differences.png') "
   ]
  },
  {
   "cell_type": "code",
   "execution_count": null,
   "metadata": {},
   "outputs": [],
   "source": [
    "def bump_quote(quote_handle: ql.RelinkableQuoteHandle, bump = 0.0001):\n",
    "    quote_handle.linkTo(ql.SimpleQuote(quote_handle.value() + bump))\n",
    "    \n",
    "\n",
    "BUMP = 1.0e-4\n",
    "SCALING = 1.0e-4\n",
    "\n",
    "ftk_sensitivities = []\n",
    "ufr_2015_sensitivities = []\n",
    "ufr_2024_sensitivities = []\n",
    "ufr_2021_sensitivities = []\n",
    "\n",
    "for tenor, quote in swap_quotes:  \n",
    "    bump_quote(quote, BUMP)\n",
    "    ftk_sensitivities.append((tenor , (ftk_pricer(liabilities) - npv_ftk) / BUMP * SCALING))\n",
    "    ufr_2015_sensitivities.append((tenor , (ufr_2015_pricer(liabilities) - npv_ufr_2015) / BUMP * SCALING))    \n",
    "    ufr_2021_sensitivities.append((tenor , (ufr_2021_pricer(liabilities) - npv_ufr_2021) / BUMP * SCALING))\n",
    "    ufr_2024_sensitivities.append((tenor , (ufr_2024_pricer(liabilities) - npv_ufr_2024) / BUMP * SCALING))\n",
    "    bump_quote(quote, -BUMP)"
   ]
  },
  {
   "cell_type": "markdown",
   "metadata": {},
   "source": [
    "The final step is to provide some insight into the sensitivity of the present value of the liabilities wrt the market quotes. \n",
    "\n",
    "The sensitivity is computed numerically. At this point, the earlier setup with the observer pattern shows its added value. Every time `bump_quote` is called on one of the market quotes, the observer receives a notification and the value of the LLFR handle is updated, next to the market / FTK handle which is also notified. \n",
    "\n",
    "In the end we obtain some interesting sensitivity distributions. \n",
    "\n",
    "While the market delta is centered around the 40 years bucket, the UFR curves' sensitivities concentrate around 25 and 30 years' buckets, leaving very little sensitivity for 40 and 50 years' buckets. "
   ]
  },
  {
   "cell_type": "code",
   "execution_count": null,
   "metadata": {
    "scrolled": false
   },
   "outputs": [],
   "source": [
    "import numpy\n",
    "\n",
    "plt.figure(num=None, figsize=(10, 5), dpi=100, facecolor='w', edgecolor='k')\n",
    "width = 0.2\n",
    "x_axis = numpy.arange(len(swap_quotes))\n",
    "\n",
    "title=f'Par deltas as of {today}'\n",
    "plt.title(title)\n",
    "plt.xlabel('tenor')\n",
    "plt.ylabel('par deltas')\n",
    "\n",
    "grid, ftk_deltas = zip(*ftk_sensitivities)\n",
    "grid_str = [str(tnr) for tnr in grid]\n",
    "plt.bar(x_axis, ftk_deltas, width, color='#222f3e', label=\"Market \\ FTK\")\n",
    "\n",
    "_, ufr_2015_deltas = zip(*ufr_2015_sensitivities)\n",
    "plt.bar(x_axis + width, ufr_2015_deltas, width, alpha=0.8, color='#00FF7F', label=\"UFR 2015\")\n",
    "\n",
    "_, ufr_2021_deltas = zip(*ufr_2021_sensitivities)\n",
    "plt.bar(x_axis + 3 * width, ufr_2021_deltas, width, alpha=0.8, color='#00d2d3', label=\"UFR 2021\")\n",
    "\n",
    "_, ufr_2024_deltas = zip(*ufr_2024_sensitivities)\n",
    "plt.bar(x_axis + 2 * width, ufr_2024_deltas, width, alpha=0.8, color='#F96714', label=\"UFR 2024\")\n",
    "\n",
    "plt.legend(loc=\"lower left\")\n",
    "plt.xticks(x_axis, grid_str)\n",
    "plt.gca().yaxis.set_major_formatter(StrMethodFormatter('{x:,.0f}'))\n",
    "plt.show()"
   ]
  }
 ],
 "metadata": {
  "kernelspec": {
   "display_name": "Python 3",
   "language": "python",
   "name": "python3"
  },
  "language_info": {
   "codemirror_mode": {
    "name": "ipython",
    "version": 3
   },
   "file_extension": ".py",
   "mimetype": "text/x-python",
   "name": "python",
   "nbconvert_exporter": "python",
   "pygments_lexer": "ipython3",
   "version": "3.8.5"
  }
 },
 "nbformat": 4,
 "nbformat_minor": 4
}
