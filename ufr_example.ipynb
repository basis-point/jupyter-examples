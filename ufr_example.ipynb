{
 "cells": [
  {
   "cell_type": "code",
   "execution_count": null,
   "metadata": {},
   "outputs": [],
   "source": [
    "import QuantLib as ql"
   ]
  },
  {
   "cell_type": "code",
   "execution_count": null,
   "metadata": {},
   "outputs": [],
   "source": [
    "import csv\n",
    "import os\n",
    "from typing import List\n",
    "\n",
    "\n",
    "def get_project_root():\n",
    "    '''\n",
    "    Returns the project root.\n",
    "    '''\n",
    "    return os.getcwd()\n",
    "\n",
    "\n",
    "def read_swap_rates_from_file(date):\n",
    "    root_dir = get_project_root()\n",
    "    date_as_int = date.year() * 10000 + date.month() * 100 + date.dayOfMonth()\n",
    "    file_name = 'swap_rates_' + str(date_as_int) + '.csv'\n",
    "    file_path = os.path.join(root_dir, 'data/', file_name)\n",
    "    with open(file_path, 'rt') as file:\n",
    "        reader = csv.reader(file, delimiter=',')\n",
    "        rates = [(ql.PeriodParser.parse(str(r[0])), float(r[1])) for r in reader]\n",
    "    return rates"
   ]
  },
  {
   "cell_type": "code",
   "execution_count": null,
   "metadata": {},
   "outputs": [],
   "source": [
    "def calculate_last_liquid_forward(crv: ql.YieldTermStructureHandle, fsp: ql.Period):\n",
    "    dc = crv.dayCounter()\n",
    "    omega = 8.0 / 15.0\n",
    "    fsp_date = crv.referenceDate() + fsp\n",
    "    cut_off = crv.timeFromReference(fsp_date)\n",
    "    llfr_weights = ((ql.Period(25, ql.Years), 1.0), \n",
    "                    (ql.Period(30, ql.Years), 0.5), \n",
    "                    (ql.Period(40, ql.Years), 0.25), \n",
    "                    (ql.Period(50, ql.Years), 0.125))\n",
    "    llfr = 0.0\n",
    "    for tenor, weight in llfr_weights:\n",
    "        time_to_maturity = crv.timeFromReference(fsp_date + tenor)\n",
    "        llfr += weight * crv.forwardRate(\n",
    "            cut_off, time_to_maturity, ql.Continuous, ql.NoFrequency, True).rate()\n",
    "    return llfr\n"
   ]
  },
  {
   "cell_type": "code",
   "execution_count": null,
   "metadata": {},
   "outputs": [],
   "source": [
    "def bump_quote(quote_handle: ql.RelinkableQuoteHandle, bump = 0.0001):\n",
    "    quote_handle.linkTo(ql.SimpleQuote(quote_handle.value() + bump))"
   ]
  },
  {
   "cell_type": "code",
   "execution_count": null,
   "metadata": {},
   "outputs": [],
   "source": [
    "# SWAP INDEX CONVENTIONS\n",
    "\n",
    "ftk_crv_handle = ql.RelinkableYieldTermStructureHandle()\n",
    "\n",
    "SETTLEMENT_DAYS = 2\n",
    "BUSINESS_CONVENTION = ql.Unadjusted\n",
    "DAY_COUNT = ql.SimpleDayCounter()\n",
    "CALENDAR = ql.NullCalendar()\n",
    "CCY = ql.EURCurrency()\n",
    "FXD_FREQUENCY = ql.Annual\n",
    "FLT_TENOR = ql.Period(6, ql.Months)\n",
    "\n",
    "ftk_idx = ql.IborIndex(\"FTK_IDX\", FLT_TENOR, SETTLEMENT_DAYS, CCY, CALENDAR,\n",
    "                       BUSINESS_CONVENTION, False, DAY_COUNT, ftk_crv_handle)\n",
    "\n",
    "# FTK CURVE CONSTRUCTION\n",
    "\n",
    "def build_ftk_curve(valuation_date: ql.Date, quote_handles: List[ql.QuoteHandle], idx: ql.IborIndex):\n",
    "    settlement = CALENDAR.advance(today, SETTLEMENT_DAYS, ql.Days)\n",
    "    instruments = [ql.SwapRateHelper(q, t, CALENDAR, FXD_FREQUENCY, BUSINESS_CONVENTION, DAY_COUNT, idx) \n",
    "                   for t, q in quote_handles]\n",
    "    crv = ql.PiecewiseLogLinearDiscount(settlement, instruments, DAY_COUNT)\n",
    "    crv.enableExtrapolation()\n",
    "    return crv\n"
   ]
  },
  {
   "cell_type": "code",
   "execution_count": null,
   "metadata": {},
   "outputs": [],
   "source": [
    "# UFR CONVENTIONS\n",
    "\n",
    "FIRST_SMOOTHING_POINT = ql.Period(20, ql.Years)\n",
    "ALPHA = 0.1;\n",
    "\n",
    "ufr_compounded = ql.InterestRate(0.023, DAY_COUNT, ql.Compounded, ql.Annual)\n",
    "ufr_continuous = ufr_compounded.equivalentRate(ql.Continuous, ql.Annual, 1.0).rate()\n",
    "ufr_quote_handle = ql.QuoteHandle(ql.SimpleQuote(ufr_continuous))"
   ]
  },
  {
   "cell_type": "code",
   "execution_count": null,
   "metadata": {},
   "outputs": [],
   "source": [
    "llfr_quote_handle = ql.RelinkableQuoteHandle()\n",
    "\n",
    "def update_llfr_handle():\n",
    "    llfr = calculate_last_liquid_forward(ftk_crv_handle, FIRST_SMOOTHING_POINT)\n",
    "    llfr_quote_handle.linkTo(ql.SimpleQuote(llfr))\n",
    "    print('LLFR observer notified.')\n",
    "    \n",
    "\n",
    "observer = ql.Observer(update_llfr_handle)"
   ]
  },
  {
   "cell_type": "code",
   "execution_count": null,
   "metadata": {},
   "outputs": [],
   "source": [
    "# VALUATION DATE\n",
    "\n",
    "today = CALENDAR.adjust(ql.Date(29, ql.March, 2019))\n",
    "ql.Settings.instance().evaluationDate = today"
   ]
  },
  {
   "cell_type": "code",
   "execution_count": null,
   "metadata": {},
   "outputs": [],
   "source": [
    "\n",
    "swap_rates = read_swap_rates_from_file(today)\n",
    "swap_rate_quotes = [(q[0], ql.RelinkableQuoteHandle(ql.SimpleQuote(q[1]))) for q in swap_rates]\n",
    "\n",
    "# Link swap quotes to observer\n",
    "\n",
    "for _, quote_handle in swap_rate_quotes:\n",
    "    observer.registerWith(quote_handle)"
   ]
  },
  {
   "cell_type": "code",
   "execution_count": null,
   "metadata": {},
   "outputs": [],
   "source": [
    "ftk_curve = build_ftk_curve(today, swap_rate_quotes, ftk_idx)\n",
    "ftk_crv_handle.linkTo(ftk_curve)"
   ]
  },
  {
   "cell_type": "code",
   "execution_count": null,
   "metadata": {},
   "outputs": [],
   "source": [
    "# Link swap quotes to observer\n",
    "\n",
    "for _, quote_handle in swap_rate_quotes:\n",
    "    observer.registerWith(quote_handle)\n",
    "\n",
    "# UFR CURVE CONSTRUCTION\n",
    "update_llfr_handle()\n",
    "ufr_curve = ql.UltimateForwardTermStructure(ftk_crv_handle, llfr_quote_handle, ufr_quote_handle, FIRST_SMOOTHING_POINT, ALPHA)"
   ]
  },
  {
   "cell_type": "code",
   "execution_count": null,
   "metadata": {},
   "outputs": [],
   "source": [
    "# print(swap_rate_quotes[0][1].value())\n",
    "# bump_quote(swap_rate_quotes[15][1], 0.001)\n",
    "# print(swap_rate_quotes[0][1].value())\n",
    "\n",
    "# ftk_crv_handle.discount(ftk_crv_handle.referenceDate() + ql.Period(50, ql.Years))\n",
    "ufr_curve.discount(ftk_crv_handle.referenceDate() + ql.Period(50, ql.Years))"
   ]
  }
 ],
 "metadata": {
  "kernelspec": {
   "display_name": "Python 3",
   "language": "python",
   "name": "python3"
  },
  "language_info": {
   "codemirror_mode": {
    "name": "ipython",
    "version": 3
   },
   "file_extension": ".py",
   "mimetype": "text/x-python",
   "name": "python",
   "nbconvert_exporter": "python",
   "pygments_lexer": "ipython3",
   "version": "3.8.3"
  }
 },
 "nbformat": 4,
 "nbformat_minor": 4
}
