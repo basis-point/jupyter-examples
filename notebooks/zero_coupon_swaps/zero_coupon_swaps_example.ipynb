{
 "cells": [
  {
   "cell_type": "code",
   "execution_count": null,
   "id": "4aebe31c",
   "metadata": {},
   "outputs": [],
   "source": [
    "import QuantLib as ql\n",
    "\n",
    "import csv\n",
    "from typing import List, Tuple\n",
    "\n",
    "\n",
    "def read_swap_quotes(date: ql.Date) -> List[Tuple[ql.Period, ql.RelinkableQuoteHandle]]:\n",
    "    date_as_int = date.year() * 10000 + date.month() * 100 + date.dayOfMonth()\n",
    "    file_path = 'data/swap_rates_' + str(date_as_int) + '.csv'\n",
    "    with open(file_path, 'rt') as file:\n",
    "        reader = csv.reader(file, delimiter=',')\n",
    "        rates = [(ql.PeriodParser.parse(str(r[0])), float(r[1])) for r in reader]\n",
    "        return [(q[0], ql.RelinkableQuoteHandle(ql.SimpleQuote(q[1]))) for q in rates]\n",
    "\n",
    "\n",
    "def read_fixings() -> List[Tuple[ql.Date, float]]:\n",
    "    file_path = 'data/fixings.csv'\n",
    "    with open(file_path, 'rt') as file:\n",
    "        reader = csv.reader(file, delimiter=',')\n",
    "        return [(ql.Date(str(r[0]), '%Y%m%d'), float(r[1]) / 100.0) for r in reader]"
   ]
  },
  {
   "cell_type": "code",
   "execution_count": null,
   "id": "fa2147b7",
   "metadata": {},
   "outputs": [],
   "source": [
    "# USD LIBOR SWAP CONVENTIONS\n",
    "\n",
    "SETTLEMENT_DAYS = 2\n",
    "BUSINESS_CONVENTION = ql.Following\n",
    "DAY_COUNT = ql.Thirty360()\n",
    "CALENDAR = ql.UnitedKingdom(ql.UnitedKingdom.Settlement)\n",
    "FXD_FREQUENCY = ql.Semiannual\n",
    "\n",
    "TS_DAY_COUNT = ql.Actual365Fixed() # term structure day count\n",
    "\n",
    "# USD LIBOR SWAP CURVE CONSTRUCTION FUNCTION\n",
    "\n",
    "def build_swap_curve(valuation_date: ql.Date, \n",
    "                     index: ql.IborIndex, \n",
    "                     quote_handles: List[ql.QuoteHandle]) -> ql.YieldTermStructure:\n",
    "    settlement = CALENDAR.advance(today, SETTLEMENT_DAYS, ql.Days)\n",
    "    instruments = [ql.SwapRateHelper(q, t, CALENDAR, FXD_FREQUENCY, BUSINESS_CONVENTION, DAY_COUNT, index) \n",
    "                   for t, q in quote_handles]\n",
    "    crv = ql.PiecewiseLogCubicDiscount(settlement, instruments, TS_DAY_COUNT)\n",
    "    crv.enableExtrapolation()\n",
    "    return crv"
   ]
  },
  {
   "cell_type": "code",
   "execution_count": null,
   "id": "bcaa5232",
   "metadata": {},
   "outputs": [],
   "source": [
    "# VALUATION DATE\n",
    "\n",
    "today = CALENDAR.adjust(ql.Date(30, ql.June, 2021))\n",
    "ql.Settings.instance().evaluationDate = today\n",
    "\n",
    "# CREATE A TERM STRUCTURE HANDLE\n",
    "\n",
    "ts_handle = ql.RelinkableYieldTermStructureHandle()\n",
    "\n",
    "# CREATE INDEX AND STORE HISTORICAL FIXINGS\n",
    "\n",
    "euribor_idx = ql.USDLibor(ql.Period(3, ql.Months), ts_handle)\n",
    "dates, fixings = zip(*read_fixings())\n",
    "euribor_idx.addFixings(dates, fixings)\n",
    "\n",
    "# CONSTRUCT AN INTEREST RATE SWAP TERM STRUCTURE\n",
    "\n",
    "swap_quotes = read_swap_quotes(today)\n",
    "swap_ts = build_swap_curve(today, euribor_idx, swap_quotes)\n",
    "\n",
    "# LINK SWAP TERM STRUCTURE TO A HANDLE\n",
    "\n",
    "ts_handle.linkTo(swap_ts)"
   ]
  }
 ],
 "metadata": {
  "kernelspec": {
   "display_name": "Python 3",
   "language": "python",
   "name": "python3"
  },
  "language_info": {
   "codemirror_mode": {
    "name": "ipython",
    "version": 3
   },
   "file_extension": ".py",
   "mimetype": "text/x-python",
   "name": "python",
   "nbconvert_exporter": "python",
   "pygments_lexer": "ipython3",
   "version": "3.8.8"
  }
 },
 "nbformat": 4,
 "nbformat_minor": 5
}
