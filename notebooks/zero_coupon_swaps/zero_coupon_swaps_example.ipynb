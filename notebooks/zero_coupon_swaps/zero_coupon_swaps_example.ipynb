{
 "cells": [
  {
   "cell_type": "markdown",
   "id": "3888bebe",
   "metadata": {},
   "source": [
    "# Introduction\n",
    "\n",
    "This notebook presents how to construct a zero coupon swap instrument and calculate its characteristics, using the open source financial library `QuantLib`. It demonstrates the some alternative methods to validate the results. Also, a brief summary of the methodology is given to better understand the implementation.\n",
    "\n",
    "# What can zero coupon swaps be used for?\n",
    "\n",
    "Zero coupon swap is a derivative which exchanges only two single cash flows at maturity. One of its legs assumes a fixed cash flow payment, whereas the other is linked to a floating rate which is periodically compounded. \n",
    "\n",
    "These derivatives can be of particular use for pension funds as a hedging instrument for their long-dated liabilities. Given that the cash flows are exchanged at maturity only, it is easier to perform cash flow matching operations compared to e.g. vanilla interest rate swaps. A considerable downside, which also stems from the cash flows being paid only at maturity, is significantly higher counterparty risk as opposed to derivatives that pay coupons. This leads to somewhat smaller popularity of these derivatives among other market participants - in consequence lower liquidity and relatively higher pricing levels.\n",
    "\n",
    "\n",
    "# Valuation formulae\n",
    "\n",
    "Zero coupon swaps can be quoted in terms of a known fixed cash flow $ N^{FIX} $ or a fixed rate $ R $, where:\n",
    "\n",
    "\\begin{equation*}\n",
    "N^{FIX} = N \\left[ (1+R)^{\\alpha(T_{0}, T_{K})}-1 \\right] ,\n",
    "\\end{equation*}\n",
    "\n",
    "with $ \\alpha(T_{0}, T_{K}) $ being the time fraction between the start date of the contract $ T_{0} $ and\n",
    "the end date $ T_{K} $ - according to a given day count convention. $ N $ is the base notional amount prior to\n",
    "compounding.\n",
    "\n",
    "The floating leg also pays a single cash flow $ N^{FLT} $, which value is determined by periodically averaging (e.g. every\n",
    "6 months) interest rate index fixings.\n",
    "\n",
    "Assuming the use of compounded averaging the projected value of the floating leg becomes:\n",
    "\n",
    "\\begin{equation*}\n",
    "N^{FLT} = N \\left[ \\prod_{k=0}^{K-1} (1+\\alpha(T_{k},T_{k+1}) L(T_{k},T_{k+1})) -1 \\right],\n",
    "\\end{equation*}\n",
    "\n",
    "where $ L(T_{i}, T_{j})) $ are interest rate index fixings for accrual period $ [T_{i}, T_{j}] $.\n",
    "\n",
    "The present value of a receiver contract (one in which the fixed leg cash flow is received) is:\n",
    "\n",
    "\\begin{equation*}\n",
    "V(t) = P(t,T) N^{FIX} - P(t,T) N^{FLT}\n",
    "\\end{equation*}\n",
    "\n",
    "where $ T $ is the final payment time ($ T \\geq T_{K} $), $ P(t,T) $ is the nominal discount factor at time $ T $ with reference time $ t $.\n"
   ]
  },
  {
   "cell_type": "markdown",
   "id": "0ef6f4d2",
   "metadata": {},
   "source": [
    "# Term structures"
   ]
  },
  {
   "cell_type": "code",
   "execution_count": null,
   "id": "4aebe31c",
   "metadata": {},
   "outputs": [],
   "source": [
    "import QuantLib as ql\n",
    "\n",
    "import csv\n",
    "from typing import List, Tuple\n",
    "\n",
    "\n",
    "def read_swap_quotes(date: ql.Date) -> List[Tuple[ql.Period, ql.RelinkableQuoteHandle]]:\n",
    "    date_as_int = date.year() * 10000 + date.month() * 100 + date.dayOfMonth()\n",
    "    file_path = 'data/swap_rates_' + str(date_as_int) + '.csv'\n",
    "    with open(file_path, 'rt') as file:\n",
    "        reader = csv.reader(file, delimiter=',')\n",
    "        rates = [(ql.PeriodParser.parse(str(r[0])), float(r[1])) for r in reader]\n",
    "        return [(q[0], ql.RelinkableQuoteHandle(ql.SimpleQuote(q[1]))) for q in rates]\n",
    "\n",
    "\n",
    "def read_fixings() -> List[Tuple[ql.Date, float]]:\n",
    "    file_path = 'data/fixings.csv'\n",
    "    with open(file_path, 'rt') as file:\n",
    "        reader = csv.reader(file, delimiter=',')\n",
    "        return [(ql.Date(str(r[0]), '%d/%m/%Y'), float(r[1]) / 100.0) for r in reader]"
   ]
  },
  {
   "cell_type": "markdown",
   "id": "5d6c2fea",
   "metadata": {},
   "source": [
    "We need to introduce a number of helper functions, e.g. to retrieve market data, just like the functions defined in the cell above. \n",
    "\n",
    "Note that `read_swap_quotes` reads a list of tuples of type `(ql.Period, ql.RelinkableQuoteHandle)`. \n",
    "Storing any market data information in `ql.RelinkableQuoteHandle` gives better control over the data, e.g. for the purposes of stress-testing or computing numerical sensitivities. "
   ]
  },
  {
   "cell_type": "code",
   "execution_count": null,
   "id": "fa2147b7",
   "metadata": {},
   "outputs": [],
   "source": [
    "# USD LIBOR SWAP CONVENTIONS\n",
    "\n",
    "SETTLEMENT_DAYS = 2\n",
    "BUSINESS_CONVENTION = ql.Following\n",
    "DAY_COUNT = ql.Thirty360()\n",
    "CALENDAR = ql.TARGET()\n",
    "FXD_FREQUENCY = ql.Annual\n",
    "\n",
    "TS_DAY_COUNT = ql.Actual365Fixed() # term structure day count\n",
    "\n",
    "# INTERPOLATION MAP\n",
    "\n",
    "INTERPOLATION_MAP = {'linear_zero': lambda s, i: ql.PiecewiseLinearZero(s, i, TS_DAY_COUNT),\n",
    "                     'linear_log_discount': lambda s, i: ql.PiecewiseLogLinearDiscount(s, i, TS_DAY_COUNT),\n",
    "                     'cubic_zero': lambda s, i: ql.PiecewiseCubicZero(s, i, TS_DAY_COUNT),\n",
    "                     'cubic_log_discount': lambda s, i: ql.PiecewiseLogCubicDiscount(s, i, TS_DAY_COUNT)}\n",
    "\n",
    "# USD LIBOR SWAP CURVE CONSTRUCTION FUNCTION\n",
    "\n",
    "def build_swap_curve(valuation_date: ql.Date, \n",
    "                     index: ql.IborIndex, \n",
    "                     quote_handles: List[ql.QuoteHandle],\n",
    "                     interpolation_method: str) -> ql.YieldTermStructure:\n",
    "    settlement = CALENDAR.advance(today, SETTLEMENT_DAYS, ql.Days)\n",
    "    instruments = [ql.SwapRateHelper(q, t, CALENDAR, FXD_FREQUENCY, BUSINESS_CONVENTION, DAY_COUNT, index) \n",
    "                   for t, q in quote_handles]\n",
    "    crv = INTERPOLATION_MAP[interpolation_method](settlement, instruments)\n",
    "    crv.enableExtrapolation()\n",
    "    return crv"
   ]
  },
  {
   "cell_type": "markdown",
   "id": "fa1c5c28",
   "metadata": {},
   "source": [
    "`build_swap_curve` constructs the Euribor 6M swap term structure. It is assumed that this curve is constructed only out of interest rate swaps constituents (constructed via `ql.SwapRateHelper` function). \n",
    "\n",
    "Given that the payoff on the floating leg of a zero coupon swap is compounded, it is of great importance for valuation and risk management to be able to project relatively reliable future Euribor fixings. The quality of the forwards largely depends on the chosen interpolation scheme for the term structure. We will demonstrate a number of examples of forward curves given different interpolation schemes."
   ]
  },
  {
   "cell_type": "code",
   "execution_count": null,
   "id": "bcaa5232",
   "metadata": {},
   "outputs": [],
   "source": [
    "# VALUATION DATE\n",
    "\n",
    "today = CALENDAR.adjust(ql.Date(30, ql.June, 2021))\n",
    "ql.Settings.instance().evaluationDate = today\n",
    "\n",
    "# CREATE A TERM STRUCTURE HANDLE\n",
    "\n",
    "ts_handle = ql.RelinkableYieldTermStructureHandle()\n",
    "\n",
    "# CREATE INDEX AND STORE HISTORICAL FIXINGS\n",
    "\n",
    "libor_idx = ql.Euribor6M(ts_handle)\n",
    "dates, fixings = zip(*read_fixings())\n",
    "libor_idx.addFixings(dates, fixings)\n",
    "\n",
    "# CONSTRUCT AN INTEREST RATE SWAP TERM STRUCTURE\n",
    "\n",
    "swap_quotes = read_swap_quotes(today)\n",
    "swap_ts_linear_zero = build_swap_curve(today, libor_idx, swap_quotes, 'linear_zero')\n",
    "swap_ts_linear_log_discount = build_swap_curve(today, libor_idx, swap_quotes, 'linear_log_discount')\n",
    "swap_ts_cubic_zero = build_swap_curve(today, libor_idx, swap_quotes, 'cubic_zero')\n",
    "swap_ts_cubic_log_discount = build_swap_curve(today, libor_idx, swap_quotes, 'cubic_log_discount')"
   ]
  },
  {
   "cell_type": "code",
   "execution_count": null,
   "id": "1c8b05ed",
   "metadata": {},
   "outputs": [],
   "source": [
    "import matplotlib.pyplot as plt\n",
    "from matplotlib.ticker import StrMethodFormatter\n",
    "\n",
    "def forward_rates(curve: ql.YieldTermStructure, tenors: List[ql.Period]) -> List[Tuple[float, float]]:\n",
    "    reference_date = curve.referenceDate()\n",
    "    d_counter = curve.dayCounter()\n",
    "    dates = [reference_date + tnr for tnr in tenors]\n",
    "    t = [curve.timeFromReference(d) for d in dates]\n",
    "    z = [curve.forwardRate(time, time + 1, ql.Compounded, ql.Annual).rate() for time in t]\n",
    "    return list(zip(t, z))\n",
    "\n",
    "\n",
    "tenors = [ql.PeriodParser.parse(str(i) + 'm') for i in range(1, 30 * 12)]\n",
    "\n",
    "y_formatter = StrMethodFormatter('{x:,.2%}')\n",
    "fig, axs = plt.subplots(2, 2, figsize=(10, 5), dpi=95)\n",
    "fig.suptitle(f'Comparison of forward curves for different interpolation schemes, {today}')\n",
    "\n",
    "t, forwards_linear_zero = zip(*forward_rates(swap_ts_linear_zero, tenors))\n",
    "axs[0, 0].plot(t, forwards_linear_zero, \"#222f3e\", label=\"Linear zero\")\n",
    "axs[0, 0].legend()\n",
    "\n",
    "_, forwards_linear_log_discount = zip(*forward_rates(swap_ts_linear_log_discount, tenors))\n",
    "axs[1, 0].plot(t, forwards_linear_log_discount, \"#00FF7F\", label=\"Linear log discount\")\n",
    "axs[1, 0].legend()\n",
    "\n",
    "_, forwards_cubic_zero = zip(*forward_rates(swap_ts_cubic_zero, tenors))\n",
    "axs[0, 1].plot(t, forwards_cubic_zero, \"#00d2d3\", label=\"Cubic zero\")\n",
    "axs[0, 1].legend()\n",
    "\n",
    "_, forwards_cubic_log_discount = zip(*forward_rates(swap_ts_cubic_log_discount, tenors))\n",
    "axs[1, 1].plot(t, forwards_cubic_log_discount, \"#F96714\", label=\"Cubic log discount\")\n",
    "axs[1, 1].legend()\n",
    "\n",
    "for ax in axs.flat:\n",
    "    ax.set(xlabel='years to maturity', ylabel='forward rate')\n",
    "    ax.yaxis.set_major_formatter(y_formatter)\n",
    "\n",
    "# Hide x labels and tick labels for top plots and y ticks for right plots.\n",
    "for ax in axs.flat:\n",
    "    ax.label_outer()\n"
   ]
  },
  {
   "cell_type": "markdown",
   "id": "1bdc2431",
   "metadata": {},
   "source": [
    "Based on the shapes of the presented term structures, a number of conclusions can be drawn:\n",
    "\n",
    "* linear interpolation on zero rates exhibits a saw-tooth shaped forward curve, which suggests poor stability of the index projections;\n",
    "* cubic interpolation on zero rates shows some improvement, compared to linear interpolation, still the forwards are showing fluctuations which are not desired;\n",
    "* linear interpolation on log discounts leads to a staircase shaped forward curve, which means that between the nodes of the curve, forwards are kept constant;\n",
    "* cubic interpolation on log discounts produces a smooth forward curve, which also seems closes to the economic expectations."
   ]
  },
  {
   "cell_type": "markdown",
   "id": "51548e6d",
   "metadata": {},
   "source": [
    "# Valuation results"
   ]
  },
  {
   "cell_type": "markdown",
   "id": "9cd5337b",
   "metadata": {},
   "source": [
    "`QuantLib` allows to build a zero coupon swap instrument using either a fixed rate or a fixed payment.\n",
    "Let us first construct one using a fixed rate of 1%."
   ]
  },
  {
   "cell_type": "code",
   "execution_count": null,
   "id": "a791f759",
   "metadata": {},
   "outputs": [],
   "source": [
    "# ZERO COUPON SWAP DETAILS\n",
    "\n",
    "swap_type = ql.Swap.Receiver\n",
    "base_nominal = 1.0e7\n",
    "start_date = ql.Date(30, ql.December, 2016)\n",
    "maturity_date = ql.Date(30, ql.December, 2042)\n",
    "rate = 0.01\n",
    "rate_day_count = ql.Actual360()\n",
    "calendar = ql.UnitedStates(ql.UnitedStates.Settlement)\n",
    "\n",
    "zcs_from_rate = ql.ZeroCouponSwap(swap_type, \n",
    "                                  base_nominal, \n",
    "                                  start_date, \n",
    "                                  maturity_date, \n",
    "                                  rate, \n",
    "                                  rate_day_count, \n",
    "                                  libor_idx, \n",
    "                                  calendar)"
   ]
  },
  {
   "cell_type": "markdown",
   "id": "297b5f65",
   "metadata": {},
   "source": [
    "Now, we can inspect the fixed payment of the swap:"
   ]
  },
  {
   "cell_type": "code",
   "execution_count": null,
   "id": "96e8e407",
   "metadata": {
    "scrolled": true
   },
   "outputs": [],
   "source": [
    "fixed_payment = zcs_from_rate.fixedPayment()\n",
    "print('Fixed payment of the swap: ', '{:,.0f}'.format(fixed_payment))"
   ]
  },
  {
   "cell_type": "markdown",
   "id": "6e83235c",
   "metadata": {},
   "source": [
    "Recall that the fixed payment represents the compounded value of base nominal at a given interest rate, minus the initial amount of the base nomnial.\n",
    "\n",
    "We can validate the above result with a simple computation:"
   ]
  },
  {
   "cell_type": "code",
   "execution_count": null,
   "id": "61588dcc",
   "metadata": {},
   "outputs": [],
   "source": [
    "year_fraction = rate_day_count.yearFraction(start_date, maturity_date)\n",
    "compound = (1.0 + rate)**year_fraction\n",
    "\n",
    "replicated_payment = base_nominal * (compound - 1.0)\n",
    "\n",
    "print('Replicated fixed payment: ', '{:,.0f}'.format(replicated_payment))"
   ]
  },
  {
   "cell_type": "markdown",
   "id": "f58a5538",
   "metadata": {},
   "source": [
    "Same swap can be build using the calculated final payment:"
   ]
  },
  {
   "cell_type": "code",
   "execution_count": null,
   "id": "14ea9142",
   "metadata": {},
   "outputs": [],
   "source": [
    "zcs_from_payment = ql.ZeroCouponSwap(swap_type, \n",
    "                                     base_nominal, \n",
    "                                     start_date, \n",
    "                                     maturity_date, \n",
    "                                     fixed_payment, \n",
    "                                     libor_idx, \n",
    "                                     calendar)"
   ]
  },
  {
   "cell_type": "markdown",
   "id": "f6a0e653",
   "metadata": {},
   "source": [
    "To price the swap we need a discounting engine."
   ]
  },
  {
   "cell_type": "code",
   "execution_count": null,
   "id": "23f1020d",
   "metadata": {},
   "outputs": [],
   "source": [
    "engine = ql.DiscountingSwapEngine(ts_handle)\n",
    "\n",
    "zcs_from_payment.setPricingEngine(engine)"
   ]
  },
  {
   "cell_type": "markdown",
   "id": "1b853e60",
   "metadata": {},
   "source": [
    "We can compare the NPVs of the instrument under different interpolation schemes by simply relinking the `Handle` to a different term structure object."
   ]
  },
  {
   "cell_type": "code",
   "execution_count": null,
   "id": "37988894",
   "metadata": {},
   "outputs": [],
   "source": [
    "ts_handle.linkTo(swap_ts_linear_zero)\n",
    "npv_linear_zero = zcs_from_payment.NPV()\n",
    "print('NPV using linear zero interpolation: ', '{:,.0f}'.format(npv_linear_zero))\n",
    "\n",
    "ts_handle.linkTo(swap_ts_linear_log_discount)\n",
    "npv_linear_log_discount = zcs_from_payment.NPV()\n",
    "print('NPV using linear log discount interpolation: ', '{:,.0f}'.format(npv_linear_log_discount))\n",
    "\n",
    "ts_handle.linkTo(swap_ts_cubic_zero)\n",
    "npv_cubic_zero = zcs_from_payment.NPV()\n",
    "print('NPV using cubic zero interpolation: ', '{:,.0f}'.format(npv_cubic_zero))\n",
    "\n",
    "ts_handle.linkTo(swap_ts_cubic_log_discount)\n",
    "npv_cubic_log_discount = zcs_from_payment.NPV()\n",
    "print('NPV using cubic log discount interpolation: ', '{:,.0f}'.format(npv_cubic_log_discount))"
   ]
  },
  {
   "cell_type": "markdown",
   "id": "e9269be5",
   "metadata": {},
   "source": [
    "# Risk analysis results"
   ]
  },
  {
   "cell_type": "markdown",
   "id": "8d703558",
   "metadata": {},
   "source": [
    "The library offers a number of methods to analyse the risks associated with this instrument. \n",
    "\n",
    "We are going to focus here on the par deltas, being the sensitivity of the market value of the instrument with respect to changes of the par swap rates constituing the term structure used to discount the cash flows and to project the future interest rate fixings of the instrument. \n",
    "\n",
    "The sensitivity is computed numerically. Every time `bump_quote` is called on one of the market quotes, the observer receives a notification and the term structure handle is notified, after which the `NPV` is recalculated.\n",
    "\n",
    "In the end we obtain some interesting sensitivity distributions for various interpolation methods."
   ]
  },
  {
   "cell_type": "code",
   "execution_count": null,
   "id": "01152c0d",
   "metadata": {},
   "outputs": [],
   "source": [
    "def bump_quote(quote_handle: ql.RelinkableQuoteHandle, bump = 0.0001):\n",
    "    quote_handle.linkTo(ql.SimpleQuote(quote_handle.value() + bump))\n",
    "    \n",
    "\n",
    "BUMP = 1.0e-4\n",
    "SCALING = 1.0e-4\n",
    "\n",
    "sensitivities_linear_zero = []\n",
    "sensitivities_cubic_zero = []\n",
    "sensitivities_linear_log_discount = []\n",
    "sensitivities_cubic_log_discount = []\n",
    "\n",
    "for tenor, quote in swap_quotes:  \n",
    "    bump_quote(quote, BUMP)\n",
    "    \n",
    "    ts_handle.linkTo(swap_ts_linear_zero)\n",
    "    sensitivities_linear_zero.append((tenor, (zcs_from_payment.NPV() - npv_linear_zero) / BUMP * SCALING))\n",
    "    \n",
    "    ts_handle.linkTo(swap_ts_linear_log_discount)\n",
    "    sensitivities_linear_log_discount.append((tenor, (zcs_from_payment.NPV() - npv_linear_log_discount) / BUMP * SCALING))\n",
    "    \n",
    "    ts_handle.linkTo(swap_ts_cubic_zero)\n",
    "    sensitivities_cubic_zero.append((tenor, (zcs_from_payment.NPV() - npv_cubic_zero) / BUMP * SCALING))\n",
    "    \n",
    "    ts_handle.linkTo(swap_ts_cubic_log_discount)\n",
    "    sensitivities_cubic_log_discount.append((tenor, (zcs_from_payment.NPV() - npv_cubic_log_discount) / BUMP * SCALING))\n",
    "    \n",
    "    bump_quote(quote, -BUMP)"
   ]
  },
  {
   "cell_type": "markdown",
   "id": "13b44b89",
   "metadata": {},
   "source": [
    "The graphs below demonstrate the distributions of the par deltas depending on the interpolation scheme.\n",
    "\n",
    "The sensitivities calculated under a term structure using linear zero and cubic log discount interpolations are visibly different, compared to the profile under the remaining two schemes. In fact, it is very often the case that cubic interpolation schemes display an issue of non-locality of hedges. "
   ]
  },
  {
   "cell_type": "code",
   "execution_count": null,
   "id": "e5205bc0",
   "metadata": {
    "scrolled": false
   },
   "outputs": [],
   "source": [
    "import numpy\n",
    "\n",
    "width = 0.4\n",
    "x_axis = numpy.arange(len(swap_quotes))\n",
    "\n",
    "y_formatter = StrMethodFormatter('{x:,.0f}')\n",
    "fig, axs = plt.subplots(4, 1, figsize=(8, 14), dpi=75)\n",
    "fig.subplots_adjust(top=0.93, bottom=0.05)\n",
    "fig.suptitle(f'Comparison of ZCS par sensitivities for different interpolation schemes, {today}')\n",
    "\n",
    "grid, deltas_linear_zero = zip(*sensitivities_linear_zero)\n",
    "grid_str = [str(tnr) for tnr in grid]\n",
    "axs[0].bar(grid_str, deltas_linear_zero, width, color=\"#222f3e\", label=\"Linear zero\")\n",
    "axs[0].legend()\n",
    "\n",
    "_, deltas_linear_log_discount = zip(*sensitivities_linear_log_discount)\n",
    "axs[1].bar(grid_str, deltas_linear_log_discount, width, color=\"#00FF7F\", label=\"Linear log discount\")\n",
    "axs[1].legend()\n",
    "\n",
    "_, deltas_cubic_zero = zip(*sensitivities_cubic_zero)\n",
    "axs[2].bar(grid_str, deltas_cubic_zero, width, color=\"#00d2d3\", label=\"Cubic zero\")\n",
    "axs[2].legend()\n",
    "\n",
    "_, deltas_cubic_log_discount = zip(*sensitivities_cubic_log_discount)\n",
    "axs[3].bar(grid_str, deltas_cubic_log_discount, width, color=\"#F96714\", label=\"Cubic log discount\")\n",
    "axs[3].legend()\n",
    "\n",
    "for ax in axs.flat:\n",
    "    ax.set(xlabel='tenor', ylabel='par deltas')\n",
    "    ax.yaxis.set_major_formatter(y_formatter)\n"
   ]
  },
  {
   "cell_type": "code",
   "execution_count": null,
   "id": "e93f7586",
   "metadata": {},
   "outputs": [],
   "source": [
    "print('DV01 using linear zero interpolation: ', '{:,.0f}'.format(sum(deltas_linear_zero)))\n",
    "\n",
    "print('DV01 using linear log discount interpolation: ', '{:,.0f}'.format(sum(deltas_cubic_zero)))\n",
    "\n",
    "print('DV01 using cubic zero interpolation: ', '{:,.0f}'.format(sum(deltas_linear_log_discount)))\n",
    "\n",
    "print('DV01 using cubic log discount interpolation: ', '{:,.0f}'.format(sum(deltas_cubic_log_discount)))"
   ]
  }
 ],
 "metadata": {
  "kernelspec": {
   "display_name": "Python 3",
   "language": "python",
   "name": "python3"
  },
  "language_info": {
   "codemirror_mode": {
    "name": "ipython",
    "version": 3
   },
   "file_extension": ".py",
   "mimetype": "text/x-python",
   "name": "python",
   "nbconvert_exporter": "python",
   "pygments_lexer": "ipython3",
   "version": "3.8.8"
  }
 },
 "nbformat": 4,
 "nbformat_minor": 5
}
